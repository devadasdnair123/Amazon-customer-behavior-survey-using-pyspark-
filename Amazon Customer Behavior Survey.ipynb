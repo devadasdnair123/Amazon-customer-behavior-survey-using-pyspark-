{
 "cells": [
  {
   "cell_type": "markdown",
   "id": "4a918123",
   "metadata": {},
   "source": [
    "## Importing libraries and reading dataset"
   ]
  },
  {
   "cell_type": "code",
   "execution_count": 1,
   "id": "bbf77ccc",
   "metadata": {},
   "outputs": [],
   "source": [
    "import pyspark\n",
    "from pyspark.sql import SparkSession\n",
    "import pandas as pd\n",
    "import numpy as np\n",
    "import seaborn as sns\n",
    "from pyspark.sql.functions import col, min, max, avg, lit, count"
   ]
  },
  {
   "cell_type": "code",
   "execution_count": 2,
   "id": "0131f958",
   "metadata": {},
   "outputs": [],
   "source": [
    "spark = SparkSession.builder.appName(\"Amazon Customer Behavior Survey\").\\\n",
    "config(\"spark.memory.offHeap.enabled\",\"true\").\\\n",
    "config(\"spark.memory.offHeap.size\",\"10g\").getOrCreate()"
   ]
  },
  {
   "cell_type": "code",
   "execution_count": 3,
   "id": "87736511",
   "metadata": {},
   "outputs": [
    {
     "name": "stdout",
     "output_type": "stream",
     "text": [
      "3.4.1\n"
     ]
    }
   ],
   "source": [
    "print(spark.version)"
   ]
  },
  {
   "cell_type": "code",
   "execution_count": 4,
   "id": "66acc4cc",
   "metadata": {},
   "outputs": [],
   "source": [
    "df = spark.read.csv('Amazon Customer Behavior Survey.csv',header=True,inferSchema=True)"
   ]
  },
  {
   "cell_type": "code",
   "execution_count": 5,
   "id": "cf59f613",
   "metadata": {},
   "outputs": [
    {
     "name": "stdout",
     "output_type": "stream",
     "text": [
      "root\n",
      " |-- Timestamp: string (nullable = true)\n",
      " |-- age: integer (nullable = true)\n",
      " |-- Gender: string (nullable = true)\n",
      " |-- Purchase_Frequency: string (nullable = true)\n",
      " |-- Purchase_Categories: string (nullable = true)\n",
      " |-- Personalized_Recommendation_Frequency5: string (nullable = true)\n",
      " |-- Browsing_Frequency: string (nullable = true)\n",
      " |-- Product_Search_Method: string (nullable = true)\n",
      " |-- Search_Result_Exploration: string (nullable = true)\n",
      " |-- Customer_Reviews_Importance: integer (nullable = true)\n",
      " |-- Add_to_Cart_Browsing: string (nullable = true)\n",
      " |-- Cart_Completion_Frequency: string (nullable = true)\n",
      " |-- Cart_Abandonment_Factors: string (nullable = true)\n",
      " |-- Saveforlater_Frequency: string (nullable = true)\n",
      " |-- Review_Left: string (nullable = true)\n",
      " |-- Review_Reliability: string (nullable = true)\n",
      " |-- Review_Helpfulness: string (nullable = true)\n",
      " |-- Personalized_Recommendation_Frequency17: integer (nullable = true)\n",
      " |-- Recommendation_Helpfulness: string (nullable = true)\n",
      " |-- Rating_Accuracy: integer (nullable = true)\n",
      " |-- Shopping_Satisfaction: integer (nullable = true)\n",
      " |-- Service_Appreciation: string (nullable = true)\n",
      " |-- Improvement_Areas: string (nullable = true)\n",
      "\n"
     ]
    }
   ],
   "source": [
    "df.printSchema()"
   ]
  },
  {
   "cell_type": "code",
   "execution_count": 6,
   "id": "d1dedfe2",
   "metadata": {},
   "outputs": [
    {
     "data": {
      "text/plain": [
       "pyspark.sql.dataframe.DataFrame"
      ]
     },
     "execution_count": 6,
     "metadata": {},
     "output_type": "execute_result"
    }
   ],
   "source": [
    "type(df)"
   ]
  },
  {
   "cell_type": "code",
   "execution_count": 7,
   "id": "a7d1f262",
   "metadata": {},
   "outputs": [
    {
     "data": {
      "text/plain": [
       "['Timestamp',\n",
       " 'age',\n",
       " 'Gender',\n",
       " 'Purchase_Frequency',\n",
       " 'Purchase_Categories',\n",
       " 'Personalized_Recommendation_Frequency5',\n",
       " 'Browsing_Frequency',\n",
       " 'Product_Search_Method',\n",
       " 'Search_Result_Exploration',\n",
       " 'Customer_Reviews_Importance',\n",
       " 'Add_to_Cart_Browsing',\n",
       " 'Cart_Completion_Frequency',\n",
       " 'Cart_Abandonment_Factors',\n",
       " 'Saveforlater_Frequency',\n",
       " 'Review_Left',\n",
       " 'Review_Reliability',\n",
       " 'Review_Helpfulness',\n",
       " 'Personalized_Recommendation_Frequency17',\n",
       " 'Recommendation_Helpfulness',\n",
       " 'Rating_Accuracy',\n",
       " 'Shopping_Satisfaction',\n",
       " 'Service_Appreciation',\n",
       " 'Improvement_Areas']"
      ]
     },
     "execution_count": 7,
     "metadata": {},
     "output_type": "execute_result"
    }
   ],
   "source": [
    "df.columns"
   ]
  },
  {
   "cell_type": "code",
   "execution_count": 8,
   "id": "fc0c513d",
   "metadata": {},
   "outputs": [
    {
     "data": {
      "text/plain": [
       "[Row(Timestamp='2023/06/04 1:28:19 PM GMT+5:30', age=23, Gender='Female', Purchase_Frequency='Few times a month', Purchase_Categories='Beauty and Personal Care', Personalized_Recommendation_Frequency5='Yes', Browsing_Frequency='Few times a week', Product_Search_Method='Keyword', Search_Result_Exploration='Multiple pages', Customer_Reviews_Importance=1, Add_to_Cart_Browsing='Yes', Cart_Completion_Frequency='Sometimes', Cart_Abandonment_Factors='Found a better price elsewhere', Saveforlater_Frequency='Sometimes', Review_Left='Yes', Review_Reliability='Occasionally', Review_Helpfulness='Yes', Personalized_Recommendation_Frequency17=2, Recommendation_Helpfulness='Yes', Rating_Accuracy=1, Shopping_Satisfaction=1, Service_Appreciation='Competitive prices', Improvement_Areas='Reducing packaging waste'),\n",
       " Row(Timestamp='2023/06/04 2:30:44 PM GMT+5:30', age=23, Gender='Female', Purchase_Frequency='Once a month', Purchase_Categories='Clothing and Fashion', Personalized_Recommendation_Frequency5='Yes', Browsing_Frequency='Few times a month', Product_Search_Method='Keyword', Search_Result_Exploration='Multiple pages', Customer_Reviews_Importance=1, Add_to_Cart_Browsing='Yes', Cart_Completion_Frequency='Often', Cart_Abandonment_Factors='High shipping costs', Saveforlater_Frequency='Rarely', Review_Left='No', Review_Reliability='Heavily', Review_Helpfulness='Yes', Personalized_Recommendation_Frequency17=2, Recommendation_Helpfulness='Sometimes', Rating_Accuracy=3, Shopping_Satisfaction=2, Service_Appreciation='Wide product selection', Improvement_Areas='Reducing packaging waste'),\n",
       " Row(Timestamp='2023/06/04 5:04:56 PM GMT+5:30', age=24, Gender='Prefer not to say', Purchase_Frequency='Few times a month', Purchase_Categories='Groceries and Gourmet Food;Clothing and Fashion', Personalized_Recommendation_Frequency5='No', Browsing_Frequency='Few times a month', Product_Search_Method='Keyword', Search_Result_Exploration='Multiple pages', Customer_Reviews_Importance=2, Add_to_Cart_Browsing='Yes', Cart_Completion_Frequency='Sometimes', Cart_Abandonment_Factors='Found a better price elsewhere', Saveforlater_Frequency='Rarely', Review_Left='No', Review_Reliability='Occasionally', Review_Helpfulness='No', Personalized_Recommendation_Frequency17=4, Recommendation_Helpfulness='No', Rating_Accuracy=3, Shopping_Satisfaction=3, Service_Appreciation='Competitive prices', Improvement_Areas='Product quality and accuracy'),\n",
       " Row(Timestamp='2023/06/04 5:13:00 PM GMT+5:30', age=24, Gender='Female', Purchase_Frequency='Once a month', Purchase_Categories='Beauty and Personal Care;Clothing and Fashion;others', Personalized_Recommendation_Frequency5='Sometimes', Browsing_Frequency='Few times a month', Product_Search_Method='Keyword', Search_Result_Exploration='First page', Customer_Reviews_Importance=5, Add_to_Cart_Browsing='Maybe', Cart_Completion_Frequency='Sometimes', Cart_Abandonment_Factors='Found a better price elsewhere', Saveforlater_Frequency='Sometimes', Review_Left='Yes', Review_Reliability='Heavily', Review_Helpfulness='Yes', Personalized_Recommendation_Frequency17=3, Recommendation_Helpfulness='Sometimes', Rating_Accuracy=3, Shopping_Satisfaction=4, Service_Appreciation='Competitive prices', Improvement_Areas='Product quality and accuracy'),\n",
       " Row(Timestamp='2023/06/04 5:28:06 PM GMT+5:30', age=22, Gender='Female', Purchase_Frequency='Less than once a month', Purchase_Categories='Beauty and Personal Care;Clothing and Fashion', Personalized_Recommendation_Frequency5='Yes', Browsing_Frequency='Few times a month', Product_Search_Method='Filter', Search_Result_Exploration='Multiple pages', Customer_Reviews_Importance=1, Add_to_Cart_Browsing='Yes', Cart_Completion_Frequency='Sometimes', Cart_Abandonment_Factors='High shipping costs', Saveforlater_Frequency='Rarely', Review_Left='No', Review_Reliability='Heavily', Review_Helpfulness='Yes', Personalized_Recommendation_Frequency17=4, Recommendation_Helpfulness='Yes', Rating_Accuracy=2, Shopping_Satisfaction=2, Service_Appreciation='Competitive prices', Improvement_Areas='Product quality and accuracy')]"
      ]
     },
     "execution_count": 8,
     "metadata": {},
     "output_type": "execute_result"
    }
   ],
   "source": [
    "df.head(5)"
   ]
  },
  {
   "cell_type": "code",
   "execution_count": 9,
   "id": "976ad4cc",
   "metadata": {},
   "outputs": [
    {
     "name": "stdout",
     "output_type": "stream",
     "text": [
      "+-------+--------------------+------------------+-----------------+------------------+--------------------+--------------------------------------+------------------+---------------------+-------------------------+---------------------------+--------------------+-------------------------+------------------------+----------------------+-----------+------------------+------------------+---------------------------------------+--------------------------+------------------+---------------------+--------------------+--------------------+\n",
      "|summary|           Timestamp|               age|           Gender|Purchase_Frequency| Purchase_Categories|Personalized_Recommendation_Frequency5|Browsing_Frequency|Product_Search_Method|Search_Result_Exploration|Customer_Reviews_Importance|Add_to_Cart_Browsing|Cart_Completion_Frequency|Cart_Abandonment_Factors|Saveforlater_Frequency|Review_Left|Review_Reliability|Review_Helpfulness|Personalized_Recommendation_Frequency17|Recommendation_Helpfulness|   Rating_Accuracy|Shopping_Satisfaction|Service_Appreciation|   Improvement_Areas|\n",
      "+-------+--------------------+------------------+-----------------+------------------+--------------------+--------------------------------------+------------------+---------------------+-------------------------+---------------------------+--------------------+-------------------------+------------------------+----------------------+-----------+------------------+------------------+---------------------------------------+--------------------------+------------------+---------------------+--------------------+--------------------+\n",
      "|  count|                 602|               602|              602|               602|                 602|                                   602|               602|                  600|                      602|                        602|                 602|                      602|                     602|                   602|        602|               602|               602|                                    602|                       602|               602|                  602|                 602|                 602|\n",
      "|   mean|                null|30.790697674418606|             null|              null|                null|                                  null|              null|                 null|                     null|         2.4800664451827243|                null|                     null|                    null|                  null|       null|              null|              null|                     2.6993355481727574|                      null|2.6727574750830563|    2.463455149501661|                null|                null|\n",
      "| stddev|                null|10.193275972581427|             null|              null|                null|                                  null|              null|                 null|                     null|         1.1852257431111726|                null|                     null|                    null|                  null|       null|              null|              null|                     1.0420283993524453|                      null|0.8997441146602887|   1.0121524594380453|                null|                null|\n",
      "|    min|2023/06/04 10:13:...|                 3|           Female| Few times a month|Beauty and Person...|                                    No| Few times a month|               Filter|               First page|                          1|               Maybe|                   Always|    Changed my mind o...|                Always|         No|           Heavily|                No|                                      1|                        No|                 1|                    1|                   .|                   .|\n",
      "|    max|2023/06/16 9:16:0...|                67|Prefer not to say|       Once a week|              others|                                   Yes|            Rarely|               others|           Multiple pages|                          5|                 Yes|                Sometimes|                  others|             Sometimes|        Yes|            Rarely|               Yes|                                      5|                       Yes|                 5|                    5|Wide product sele...|better app interf...|\n",
      "+-------+--------------------+------------------+-----------------+------------------+--------------------+--------------------------------------+------------------+---------------------+-------------------------+---------------------------+--------------------+-------------------------+------------------------+----------------------+-----------+------------------+------------------+---------------------------------------+--------------------------+------------------+---------------------+--------------------+--------------------+\n",
      "\n"
     ]
    }
   ],
   "source": [
    "df.describe().show()"
   ]
  },
  {
   "cell_type": "code",
   "execution_count": 10,
   "id": "6df009d8",
   "metadata": {},
   "outputs": [
    {
     "data": {
      "text/plain": [
       "[('Timestamp', 'string'),\n",
       " ('age', 'int'),\n",
       " ('Gender', 'string'),\n",
       " ('Purchase_Frequency', 'string'),\n",
       " ('Purchase_Categories', 'string'),\n",
       " ('Personalized_Recommendation_Frequency5', 'string'),\n",
       " ('Browsing_Frequency', 'string'),\n",
       " ('Product_Search_Method', 'string'),\n",
       " ('Search_Result_Exploration', 'string'),\n",
       " ('Customer_Reviews_Importance', 'int'),\n",
       " ('Add_to_Cart_Browsing', 'string'),\n",
       " ('Cart_Completion_Frequency', 'string'),\n",
       " ('Cart_Abandonment_Factors', 'string'),\n",
       " ('Saveforlater_Frequency', 'string'),\n",
       " ('Review_Left', 'string'),\n",
       " ('Review_Reliability', 'string'),\n",
       " ('Review_Helpfulness', 'string'),\n",
       " ('Personalized_Recommendation_Frequency17', 'int'),\n",
       " ('Recommendation_Helpfulness', 'string'),\n",
       " ('Rating_Accuracy', 'int'),\n",
       " ('Shopping_Satisfaction', 'int'),\n",
       " ('Service_Appreciation', 'string'),\n",
       " ('Improvement_Areas', 'string')]"
      ]
     },
     "execution_count": 10,
     "metadata": {},
     "output_type": "execute_result"
    }
   ],
   "source": [
    "df.dtypes"
   ]
  },
  {
   "cell_type": "code",
   "execution_count": 11,
   "id": "cac8dd16",
   "metadata": {},
   "outputs": [
    {
     "name": "stdout",
     "output_type": "stream",
     "text": [
      "+---+\n",
      "|age|\n",
      "+---+\n",
      "| 23|\n",
      "| 23|\n",
      "| 24|\n",
      "| 24|\n",
      "| 22|\n",
      "+---+\n",
      "only showing top 5 rows\n",
      "\n"
     ]
    }
   ],
   "source": [
    "## Selecting a particular column\n",
    "df.select('age').show(5)"
   ]
  },
  {
   "cell_type": "code",
   "execution_count": null,
   "id": "2e34d0a6",
   "metadata": {},
   "outputs": [],
   "source": []
  },
  {
   "cell_type": "code",
   "execution_count": 12,
   "id": "41cd1f43",
   "metadata": {},
   "outputs": [
    {
     "name": "stdout",
     "output_type": "stream",
     "text": [
      "+---+-----------------+\n",
      "|age|           Gender|\n",
      "+---+-----------------+\n",
      "| 23|           Female|\n",
      "| 23|           Female|\n",
      "| 24|Prefer not to say|\n",
      "| 24|           Female|\n",
      "| 22|           Female|\n",
      "| 21|           Female|\n",
      "| 22|           Female|\n",
      "| 21|           Female|\n",
      "| 20|           Female|\n",
      "| 23|           Female|\n",
      "| 22|           Female|\n",
      "| 25|           Female|\n",
      "| 23|           Female|\n",
      "| 24|           Female|\n",
      "| 21|           Female|\n",
      "| 23|           Female|\n",
      "| 16|             Male|\n",
      "| 21|           Female|\n",
      "| 23|           Female|\n",
      "| 25|           Female|\n",
      "+---+-----------------+\n",
      "only showing top 20 rows\n",
      "\n"
     ]
    }
   ],
   "source": [
    "## Selecting more than one columns\n",
    "df.select('age','Gender').show()"
   ]
  },
  {
   "cell_type": "code",
   "execution_count": 13,
   "id": "c7afb864",
   "metadata": {},
   "outputs": [
    {
     "name": "stdout",
     "output_type": "stream",
     "text": [
      "+--------------------+---+-----------------+--------------------+--------------------+--------------------------------------+------------------+---------------------+-------------------------+---------------------------+--------------------+-------------------------+------------------------+----------------------+-----------+------------------+------------------+---------------------------------------+--------------------------+---------------+---------------------+--------------------+--------------------+\n",
      "|           Timestamp|age|           Gender|  Purchase_Frequency| Purchase_Categories|Personalized_Recommendation_Frequency5|Browsing_Frequency|Product_Search_Method|Search_Result_Exploration|Customer_Reviews_Importance|Add_to_Cart_Browsing|Cart_Completion_Frequency|Cart_Abandonment_Factors|Saveforlater_Frequency|Review_Left|Review_Reliability|Review_Helpfulness|Personalized_Recommendation_Frequency17|Recommendation_Helpfulness|Rating_Accuracy|Shopping_Satisfaction|Service_Appreciation|   Improvement_Areas|\n",
      "+--------------------+---+-----------------+--------------------+--------------------+--------------------------------------+------------------+---------------------+-------------------------+---------------------------+--------------------+-------------------------+------------------------+----------------------+-----------+------------------+------------------+---------------------------------------+--------------------------+---------------+---------------------+--------------------+--------------------+\n",
      "|2023/06/04 1:28:1...| 23|           Female|   Few times a month|Beauty and Person...|                                   Yes|  Few times a week|              Keyword|           Multiple pages|                          1|                 Yes|                Sometimes|    Found a better pr...|             Sometimes|        Yes|      Occasionally|               Yes|                                      2|                       Yes|              1|                    1|  Competitive prices|Reducing packagin...|\n",
      "|2023/06/04 2:30:4...| 23|           Female|        Once a month|Clothing and Fashion|                                   Yes| Few times a month|              Keyword|           Multiple pages|                          1|                 Yes|                    Often|     High shipping costs|                Rarely|         No|           Heavily|               Yes|                                      2|                 Sometimes|              3|                    2|Wide product sele...|Reducing packagin...|\n",
      "|2023/06/04 5:04:5...| 24|Prefer not to say|   Few times a month|Groceries and Gou...|                                    No| Few times a month|              Keyword|           Multiple pages|                          2|                 Yes|                Sometimes|    Found a better pr...|                Rarely|         No|      Occasionally|                No|                                      4|                        No|              3|                    3|  Competitive prices|Product quality a...|\n",
      "|2023/06/04 5:13:0...| 24|           Female|        Once a month|Beauty and Person...|                             Sometimes| Few times a month|              Keyword|               First page|                          5|               Maybe|                Sometimes|    Found a better pr...|             Sometimes|        Yes|           Heavily|               Yes|                                      3|                 Sometimes|              3|                    4|  Competitive prices|Product quality a...|\n",
      "|2023/06/04 5:28:0...| 22|           Female|Less than once a ...|Beauty and Person...|                                   Yes| Few times a month|               Filter|           Multiple pages|                          1|                 Yes|                Sometimes|     High shipping costs|                Rarely|         No|           Heavily|               Yes|                                      4|                       Yes|              2|                    2|  Competitive prices|Product quality a...|\n",
      "|2023/06/04 6:01:5...| 21|           Female|Less than once a ...|Clothing and Fashion|                                    No|            Rarely|           categories|           Multiple pages|                          1|                 Yes|                   Rarely|    Changed my mind o...|                 Never|         No|           Heavily|               Yes|                                      5|                        No|              5|                    2|Wide product sele...|Product quality a...|\n",
      "|2023/06/04 6:31:4...| 22|           Female|Less than once a ...|Clothing and Fashion|                                    No|            Rarely|               Filter|           Multiple pages|                          1|                 Yes|                    Often|     High shipping costs|                Rarely|         No|           Heavily|               Yes|                                      3|                 Sometimes|              3|                    3|Wide product sele...|Shipping speed an...|\n",
      "|2023/06/04 7:13:1...| 21|           Female|   Few times a month|Beauty and Person...|                                    No|            Rarely|              Keyword|           Multiple pages|                          1|                 Yes|                    Often|    Found a better pr...|                Rarely|         No|           Heavily|         Sometimes|                                      3|                 Sometimes|              1|                    3|  Competitive prices|Shipping speed an...|\n",
      "|2023/06/04 7:23:2...| 20|           Female|Less than once a ...|Beauty and Person...|                             Sometimes| Few times a month|              Keyword|               First page|                          1|                 Yes|                Sometimes|    Changed my mind o...|                 Often|         No|        Moderately|               Yes|                                      2|                       Yes|              2|                    2|Wide product sele...|Reducing packagin...|\n",
      "|2023/06/04 7:33:1...| 23|           Female|Less than once a ...|Beauty and Person...|                                    No|            Rarely|              Keyword|           Multiple pages|                          1|                 Yes|                   Rarely|    Found a better pr...|                Rarely|         No|           Heavily|               Yes|                                      3|                       Yes|              3|                    4|Wide product sele...|Product quality a...|\n",
      "|2023/06/04 7:45:3...| 22|           Female|Less than once a ...|Clothing and Fashion|                                    No| Few times a month|           categories|           Multiple pages|                          1|               Maybe|                Sometimes|    Found a better pr...|             Sometimes|         No|           Heavily|               Yes|                                      3|                 Sometimes|              3|                    2|  Competitive prices|Shipping speed an...|\n",
      "|2023/06/04 7:48:3...| 25|           Female|Multiple times a ...|Beauty and Person...|                                    No|  Few times a week|              Keyword|           Multiple pages|                          1|                 Yes|                Sometimes|     High shipping costs|             Sometimes|        Yes|           Heavily|               Yes|                                      3|                       Yes|              3|                    1|Wide product sele...|Product quality a...|\n",
      "|2023/06/04 8:00:1...| 23|           Female|Less than once a ...|Beauty and Person...|                                    No| Few times a month|              Keyword|               First page|                          1|               Maybe|                Sometimes|    Changed my mind o...|                Rarely|         No|           Heavily|         Sometimes|                                      2|                        No|              3|                    2|  Competitive prices|Product quality a...|\n",
      "|2023/06/04 8:01:4...| 24|           Female|        Once a month|Clothing and Fash...|                                    No| Few times a month|              Keyword|           Multiple pages|                          1|                 Yes|                    Often|    Changed my mind o...|                 Often|        Yes|        Moderately|               Yes|                                      2|                       Yes|              2|                    2|Wide product sele...|Product quality a...|\n",
      "|2023/06/04 8:02:2...| 21|           Female|Less than once a ...|Beauty and Person...|                                   Yes|  Few times a week|              Keyword|           Multiple pages|                          1|                 Yes|                    Often|    Changed my mind o...|                Always|        Yes|           Heavily|               Yes|                                      5|                 Sometimes|              3|                    1|User-friendly web...|Reducing packagin...|\n",
      "|2023/06/04 8:20:4...| 23|           Female|Less than once a ...|              others|                                    No|            Rarely|               Filter|               First page|                          1|               Maybe|                Sometimes|     High shipping costs|             Sometimes|         No|           Heavily|               Yes|                                      3|                 Sometimes|              3|                    3|User-friendly web...|Shipping speed an...|\n",
      "|2023/06/04 8:39:5...| 16|             Male|   Few times a month|Clothing and Fash...|                             Sometimes| Few times a month|              Keyword|           Multiple pages|                          1|                 Yes|                Sometimes|    Found a better pr...|                 Never|         No|           Heavily|               Yes|                                      3|                 Sometimes|              3|                    2|Wide product sele...|Shipping speed an...|\n",
      "|2023/06/04 8:45:4...| 21|           Female|Less than once a ...|Clothing and Fashion|                                    No| Few times a month|              Keyword|           Multiple pages|                          1|               Maybe|                Sometimes|                  others|                 Never|         No|           Heavily|               Yes|                                      2|                       Yes|              2|                    1|Wide product sele...|Shipping speed an...|\n",
      "|2023/06/04 8:46:0...| 23|           Female|   Few times a month|Beauty and Person...|                             Sometimes| Few times a month|              Keyword|           Multiple pages|                          1|                 Yes|                Sometimes|     High shipping costs|                Rarely|         No|        Moderately|               Yes|                                      2|                 Sometimes|              3|                    2|Wide product sele...|Customer service ...|\n",
      "|2023/06/04 8:48:5...| 25|           Female|Less than once a ...|Beauty and Person...|                                    No|  Few times a week|              Keyword|           Multiple pages|                          1|                 Yes|                Sometimes|    Found a better pr...|                Rarely|         No|           Heavily|               Yes|                                      4|                 Sometimes|              3|                    2|Wide product sele...|Product quality a...|\n",
      "+--------------------+---+-----------------+--------------------+--------------------+--------------------------------------+------------------+---------------------+-------------------------+---------------------------+--------------------+-------------------------+------------------------+----------------------+-----------+------------------+------------------+---------------------------------------+--------------------------+---------------+---------------------+--------------------+--------------------+\n",
      "only showing top 20 rows\n",
      "\n"
     ]
    }
   ],
   "source": [
    "## Describing the Dataframe\n",
    "df.show()"
   ]
  },
  {
   "cell_type": "markdown",
   "id": "0c825c46",
   "metadata": {},
   "source": [
    "## Dropping null values"
   ]
  },
  {
   "cell_type": "code",
   "execution_count": 14,
   "id": "73ec64fb",
   "metadata": {},
   "outputs": [
    {
     "name": "stdout",
     "output_type": "stream",
     "text": [
      "+--------------------+---+-----------------+--------------------+--------------------+--------------------------------------+------------------+---------------------+-------------------------+---------------------------+--------------------+-------------------------+------------------------+----------------------+-----------+------------------+------------------+---------------------------------------+--------------------------+---------------+---------------------+--------------------+--------------------+\n",
      "|           Timestamp|age|           Gender|  Purchase_Frequency| Purchase_Categories|Personalized_Recommendation_Frequency5|Browsing_Frequency|Product_Search_Method|Search_Result_Exploration|Customer_Reviews_Importance|Add_to_Cart_Browsing|Cart_Completion_Frequency|Cart_Abandonment_Factors|Saveforlater_Frequency|Review_Left|Review_Reliability|Review_Helpfulness|Personalized_Recommendation_Frequency17|Recommendation_Helpfulness|Rating_Accuracy|Shopping_Satisfaction|Service_Appreciation|   Improvement_Areas|\n",
      "+--------------------+---+-----------------+--------------------+--------------------+--------------------------------------+------------------+---------------------+-------------------------+---------------------------+--------------------+-------------------------+------------------------+----------------------+-----------+------------------+------------------+---------------------------------------+--------------------------+---------------+---------------------+--------------------+--------------------+\n",
      "|2023/06/04 1:28:1...| 23|           Female|   Few times a month|Beauty and Person...|                                   Yes|  Few times a week|              Keyword|           Multiple pages|                          1|                 Yes|                Sometimes|    Found a better pr...|             Sometimes|        Yes|      Occasionally|               Yes|                                      2|                       Yes|              1|                    1|  Competitive prices|Reducing packagin...|\n",
      "|2023/06/04 2:30:4...| 23|           Female|        Once a month|Clothing and Fashion|                                   Yes| Few times a month|              Keyword|           Multiple pages|                          1|                 Yes|                    Often|     High shipping costs|                Rarely|         No|           Heavily|               Yes|                                      2|                 Sometimes|              3|                    2|Wide product sele...|Reducing packagin...|\n",
      "|2023/06/04 5:04:5...| 24|Prefer not to say|   Few times a month|Groceries and Gou...|                                    No| Few times a month|              Keyword|           Multiple pages|                          2|                 Yes|                Sometimes|    Found a better pr...|                Rarely|         No|      Occasionally|                No|                                      4|                        No|              3|                    3|  Competitive prices|Product quality a...|\n",
      "|2023/06/04 5:13:0...| 24|           Female|        Once a month|Beauty and Person...|                             Sometimes| Few times a month|              Keyword|               First page|                          5|               Maybe|                Sometimes|    Found a better pr...|             Sometimes|        Yes|           Heavily|               Yes|                                      3|                 Sometimes|              3|                    4|  Competitive prices|Product quality a...|\n",
      "|2023/06/04 5:28:0...| 22|           Female|Less than once a ...|Beauty and Person...|                                   Yes| Few times a month|               Filter|           Multiple pages|                          1|                 Yes|                Sometimes|     High shipping costs|                Rarely|         No|           Heavily|               Yes|                                      4|                       Yes|              2|                    2|  Competitive prices|Product quality a...|\n",
      "|2023/06/04 6:01:5...| 21|           Female|Less than once a ...|Clothing and Fashion|                                    No|            Rarely|           categories|           Multiple pages|                          1|                 Yes|                   Rarely|    Changed my mind o...|                 Never|         No|           Heavily|               Yes|                                      5|                        No|              5|                    2|Wide product sele...|Product quality a...|\n",
      "|2023/06/04 6:31:4...| 22|           Female|Less than once a ...|Clothing and Fashion|                                    No|            Rarely|               Filter|           Multiple pages|                          1|                 Yes|                    Often|     High shipping costs|                Rarely|         No|           Heavily|               Yes|                                      3|                 Sometimes|              3|                    3|Wide product sele...|Shipping speed an...|\n",
      "|2023/06/04 7:13:1...| 21|           Female|   Few times a month|Beauty and Person...|                                    No|            Rarely|              Keyword|           Multiple pages|                          1|                 Yes|                    Often|    Found a better pr...|                Rarely|         No|           Heavily|         Sometimes|                                      3|                 Sometimes|              1|                    3|  Competitive prices|Shipping speed an...|\n",
      "|2023/06/04 7:23:2...| 20|           Female|Less than once a ...|Beauty and Person...|                             Sometimes| Few times a month|              Keyword|               First page|                          1|                 Yes|                Sometimes|    Changed my mind o...|                 Often|         No|        Moderately|               Yes|                                      2|                       Yes|              2|                    2|Wide product sele...|Reducing packagin...|\n",
      "|2023/06/04 7:33:1...| 23|           Female|Less than once a ...|Beauty and Person...|                                    No|            Rarely|              Keyword|           Multiple pages|                          1|                 Yes|                   Rarely|    Found a better pr...|                Rarely|         No|           Heavily|               Yes|                                      3|                       Yes|              3|                    4|Wide product sele...|Product quality a...|\n",
      "|2023/06/04 7:45:3...| 22|           Female|Less than once a ...|Clothing and Fashion|                                    No| Few times a month|           categories|           Multiple pages|                          1|               Maybe|                Sometimes|    Found a better pr...|             Sometimes|         No|           Heavily|               Yes|                                      3|                 Sometimes|              3|                    2|  Competitive prices|Shipping speed an...|\n",
      "|2023/06/04 7:48:3...| 25|           Female|Multiple times a ...|Beauty and Person...|                                    No|  Few times a week|              Keyword|           Multiple pages|                          1|                 Yes|                Sometimes|     High shipping costs|             Sometimes|        Yes|           Heavily|               Yes|                                      3|                       Yes|              3|                    1|Wide product sele...|Product quality a...|\n",
      "|2023/06/04 8:00:1...| 23|           Female|Less than once a ...|Beauty and Person...|                                    No| Few times a month|              Keyword|               First page|                          1|               Maybe|                Sometimes|    Changed my mind o...|                Rarely|         No|           Heavily|         Sometimes|                                      2|                        No|              3|                    2|  Competitive prices|Product quality a...|\n",
      "|2023/06/04 8:01:4...| 24|           Female|        Once a month|Clothing and Fash...|                                    No| Few times a month|              Keyword|           Multiple pages|                          1|                 Yes|                    Often|    Changed my mind o...|                 Often|        Yes|        Moderately|               Yes|                                      2|                       Yes|              2|                    2|Wide product sele...|Product quality a...|\n",
      "|2023/06/04 8:02:2...| 21|           Female|Less than once a ...|Beauty and Person...|                                   Yes|  Few times a week|              Keyword|           Multiple pages|                          1|                 Yes|                    Often|    Changed my mind o...|                Always|        Yes|           Heavily|               Yes|                                      5|                 Sometimes|              3|                    1|User-friendly web...|Reducing packagin...|\n",
      "|2023/06/04 8:20:4...| 23|           Female|Less than once a ...|              others|                                    No|            Rarely|               Filter|               First page|                          1|               Maybe|                Sometimes|     High shipping costs|             Sometimes|         No|           Heavily|               Yes|                                      3|                 Sometimes|              3|                    3|User-friendly web...|Shipping speed an...|\n",
      "|2023/06/04 8:39:5...| 16|             Male|   Few times a month|Clothing and Fash...|                             Sometimes| Few times a month|              Keyword|           Multiple pages|                          1|                 Yes|                Sometimes|    Found a better pr...|                 Never|         No|           Heavily|               Yes|                                      3|                 Sometimes|              3|                    2|Wide product sele...|Shipping speed an...|\n",
      "|2023/06/04 8:45:4...| 21|           Female|Less than once a ...|Clothing and Fashion|                                    No| Few times a month|              Keyword|           Multiple pages|                          1|               Maybe|                Sometimes|                  others|                 Never|         No|           Heavily|               Yes|                                      2|                       Yes|              2|                    1|Wide product sele...|Shipping speed an...|\n",
      "|2023/06/04 8:46:0...| 23|           Female|   Few times a month|Beauty and Person...|                             Sometimes| Few times a month|              Keyword|           Multiple pages|                          1|                 Yes|                Sometimes|     High shipping costs|                Rarely|         No|        Moderately|               Yes|                                      2|                 Sometimes|              3|                    2|Wide product sele...|Customer service ...|\n",
      "|2023/06/04 8:48:5...| 25|           Female|Less than once a ...|Beauty and Person...|                                    No|  Few times a week|              Keyword|           Multiple pages|                          1|                 Yes|                Sometimes|    Found a better pr...|                Rarely|         No|           Heavily|               Yes|                                      4|                 Sometimes|              3|                    2|Wide product sele...|Product quality a...|\n",
      "+--------------------+---+-----------------+--------------------+--------------------+--------------------------------------+------------------+---------------------+-------------------------+---------------------------+--------------------+-------------------------+------------------------+----------------------+-----------+------------------+------------------+---------------------------------------+--------------------------+---------------+---------------------+--------------------+--------------------+\n",
      "only showing top 20 rows\n",
      "\n"
     ]
    }
   ],
   "source": [
    "## Deleting the null values\n",
    "df.na.drop().show()"
   ]
  },
  {
   "cell_type": "code",
   "execution_count": null,
   "id": "d08f7425",
   "metadata": {},
   "outputs": [],
   "source": []
  },
  {
   "cell_type": "code",
   "execution_count": 15,
   "id": "f899abb8",
   "metadata": {},
   "outputs": [
    {
     "data": {
      "text/plain": [
       "602"
      ]
     },
     "execution_count": 15,
     "metadata": {},
     "output_type": "execute_result"
    }
   ],
   "source": [
    "## Counting the number of rows after deleting the null values\n",
    "df.count()"
   ]
  },
  {
   "cell_type": "code",
   "execution_count": 16,
   "id": "1c18da0b",
   "metadata": {},
   "outputs": [
    {
     "data": {
      "text/plain": [
       "29"
      ]
     },
     "execution_count": 16,
     "metadata": {},
     "output_type": "execute_result"
    }
   ],
   "source": [
    "## Checking customer demographics\n",
    "## Customers younger than 25 or are 25 years old\n",
    "df.filter('age<=20').count()"
   ]
  },
  {
   "cell_type": "markdown",
   "id": "47737d85",
   "metadata": {},
   "source": [
    "## Filtering based on conditions"
   ]
  },
  {
   "cell_type": "code",
   "execution_count": 17,
   "id": "d4900a5d",
   "metadata": {},
   "outputs": [
    {
     "name": "stdout",
     "output_type": "stream",
     "text": [
      "+--------------------+--------------------+\n",
      "|  Purchase_Frequency| Purchase_Categories|\n",
      "+--------------------+--------------------+\n",
      "|Less than once a ...|Beauty and Person...|\n",
      "|   Few times a month|Clothing and Fash...|\n",
      "|Less than once a ...|Clothing and Fashion|\n",
      "|   Few times a month|Clothing and Fashion|\n",
      "|Multiple times a ...|Beauty and Person...|\n",
      "|Multiple times a ...|Groceries and Gou...|\n",
      "|         Once a week|Groceries and Gou...|\n",
      "|   Few times a month|Beauty and Person...|\n",
      "|        Once a month|Beauty and Person...|\n",
      "|   Few times a month|Groceries and Gou...|\n",
      "|        Once a month|    Home and Kitchen|\n",
      "|        Once a month|Clothing and Fash...|\n",
      "|   Few times a month|Clothing and Fashion|\n",
      "|   Few times a month|Clothing and Fash...|\n",
      "|        Once a month|Clothing and Fash...|\n",
      "|   Few times a month|Groceries and Gou...|\n",
      "|        Once a month|Clothing and Fashion|\n",
      "|Less than once a ...|Clothing and Fash...|\n",
      "|         Once a week|Beauty and Person...|\n",
      "|   Few times a month|Beauty and Person...|\n",
      "+--------------------+--------------------+\n",
      "only showing top 20 rows\n",
      "\n"
     ]
    }
   ],
   "source": [
    "## Check the interests of young customers\n",
    "df.filter('age<=20').select(['Purchase_Frequency','Purchase_Categories']).show()"
   ]
  },
  {
   "cell_type": "code",
   "execution_count": 18,
   "id": "786c474f",
   "metadata": {},
   "outputs": [
    {
     "data": {
      "text/plain": [
       "8"
      ]
     },
     "execution_count": 18,
     "metadata": {},
     "output_type": "execute_result"
    }
   ],
   "source": [
    "## Checking customer demographics\n",
    "## Customers older 60 or are 60 years old\n",
    "df.filter('age>=60').count()"
   ]
  },
  {
   "cell_type": "code",
   "execution_count": 19,
   "id": "86e6a10a",
   "metadata": {},
   "outputs": [
    {
     "name": "stdout",
     "output_type": "stream",
     "text": [
      "+--------------------+--------------------+\n",
      "|  Purchase_Frequency| Purchase_Categories|\n",
      "+--------------------+--------------------+\n",
      "|         Once a week|Groceries and Gou...|\n",
      "|Less than once a ...|Beauty and Person...|\n",
      "|Less than once a ...|Groceries and Gou...|\n",
      "|         Once a week|Beauty and Person...|\n",
      "|   Few times a month|Beauty and Person...|\n",
      "|   Few times a month|    Home and Kitchen|\n",
      "|Less than once a ...|Home and Kitchen;...|\n",
      "|         Once a week|Beauty and Person...|\n",
      "+--------------------+--------------------+\n",
      "\n"
     ]
    }
   ],
   "source": [
    "## Checking the interests of elder customers\n",
    "df.filter('age>=60').select(['Purchase_Frequency','Purchase_Categories']).show()"
   ]
  },
  {
   "cell_type": "code",
   "execution_count": 20,
   "id": "e05cbf18",
   "metadata": {},
   "outputs": [
    {
     "data": {
      "text/plain": [
       "565"
      ]
     },
     "execution_count": 20,
     "metadata": {},
     "output_type": "execute_result"
    }
   ],
   "source": [
    "## Major population demographic in this dataset\n",
    "## Customers in between 25 and 60\n",
    "df.filter('age>20 AND age<60').count()"
   ]
  },
  {
   "cell_type": "code",
   "execution_count": 21,
   "id": "768ec7b0",
   "metadata": {},
   "outputs": [
    {
     "name": "stdout",
     "output_type": "stream",
     "text": [
      "+--------------------+--------------------+\n",
      "|  Purchase_Frequency| Purchase_Categories|\n",
      "+--------------------+--------------------+\n",
      "|   Few times a month|Beauty and Person...|\n",
      "|        Once a month|Clothing and Fashion|\n",
      "|   Few times a month|Groceries and Gou...|\n",
      "|        Once a month|Beauty and Person...|\n",
      "|Less than once a ...|Beauty and Person...|\n",
      "|Less than once a ...|Clothing and Fashion|\n",
      "|Less than once a ...|Clothing and Fashion|\n",
      "|   Few times a month|Beauty and Person...|\n",
      "|Less than once a ...|Beauty and Person...|\n",
      "|Less than once a ...|Clothing and Fashion|\n",
      "|Multiple times a ...|Beauty and Person...|\n",
      "|Less than once a ...|Beauty and Person...|\n",
      "|        Once a month|Clothing and Fash...|\n",
      "|Less than once a ...|Beauty and Person...|\n",
      "|Less than once a ...|              others|\n",
      "|Less than once a ...|Clothing and Fashion|\n",
      "|   Few times a month|Beauty and Person...|\n",
      "|Less than once a ...|Beauty and Person...|\n",
      "|        Once a month|Clothing and Fashion|\n",
      "|Less than once a ...|              others|\n",
      "+--------------------+--------------------+\n",
      "only showing top 20 rows\n",
      "\n"
     ]
    }
   ],
   "source": [
    "## Checking the interests of the major demographic population\n",
    "df.filter('age>20 AND age<60').select(['Purchase_Frequency','Purchase_Categories']).show()"
   ]
  },
  {
   "cell_type": "code",
   "execution_count": 22,
   "id": "430726c9",
   "metadata": {},
   "outputs": [
    {
     "data": {
      "text/plain": [
       "102"
      ]
     },
     "execution_count": 22,
     "metadata": {},
     "output_type": "execute_result"
    }
   ],
   "source": [
    "## Customer review importance more than or equal to 4\n",
    "df.filter('Customer_Reviews_Importance>=4').count()"
   ]
  },
  {
   "cell_type": "code",
   "execution_count": 23,
   "id": "48938cb8",
   "metadata": {},
   "outputs": [
    {
     "data": {
      "text/plain": [
       "84"
      ]
     },
     "execution_count": 23,
     "metadata": {},
     "output_type": "execute_result"
    }
   ],
   "source": [
    "## Rating accuracy more than or equal to 4\n",
    "df.filter('Shopping_Satisfaction>=4').count()"
   ]
  },
  {
   "cell_type": "code",
   "execution_count": 24,
   "id": "dd99b1d9",
   "metadata": {},
   "outputs": [
    {
     "data": {
      "text/plain": [
       "29"
      ]
     },
     "execution_count": 24,
     "metadata": {},
     "output_type": "execute_result"
    }
   ],
   "source": [
    "df.select('Purchase_Categories').distinct().count()"
   ]
  },
  {
   "cell_type": "code",
   "execution_count": 25,
   "id": "067a0e39",
   "metadata": {},
   "outputs": [
    {
     "data": {
      "text/plain": [
       "18"
      ]
     },
     "execution_count": 25,
     "metadata": {},
     "output_type": "execute_result"
    }
   ],
   "source": [
    "df.select('Improvement_Areas').distinct().count()"
   ]
  },
  {
   "cell_type": "markdown",
   "id": "ae2b939d",
   "metadata": {},
   "source": [
    "## Grouping some key columns"
   ]
  },
  {
   "cell_type": "code",
   "execution_count": 26,
   "id": "a488cc72",
   "metadata": {},
   "outputs": [
    {
     "name": "stdout",
     "output_type": "stream",
     "text": [
      "+--------------------+-----+\n",
      "| Purchase_Categories|count|\n",
      "+--------------------+-----+\n",
      "|Clothing and Fash...|   16|\n",
      "|Groceries and Gou...|    4|\n",
      "|Groceries and Gou...|    1|\n",
      "|Groceries and Gou...|   14|\n",
      "|Beauty and Person...|    7|\n",
      "|Clothing and Fashion|  106|\n",
      "|Beauty and Person...|    8|\n",
      "|Groceries and Gou...|    3|\n",
      "|              others|   48|\n",
      "|Groceries and Gou...|    7|\n",
      "|Home and Kitchen;...|    9|\n",
      "|Beauty and Person...|   46|\n",
      "|Groceries and Gou...|    4|\n",
      "|Groceries and Gou...|   14|\n",
      "|Beauty and Person...|   42|\n",
      "|Groceries and Gou...|    6|\n",
      "|    Home and Kitchen|   24|\n",
      "|Groceries and Gou...|    2|\n",
      "|Groceries and Gou...|    3|\n",
      "|Beauty and Person...|   21|\n",
      "+--------------------+-----+\n",
      "only showing top 20 rows\n",
      "\n"
     ]
    }
   ],
   "source": [
    "## Distinct values of Purchase categories\n",
    "df.groupBy('Purchase_Categories').count().show()"
   ]
  },
  {
   "cell_type": "code",
   "execution_count": 27,
   "id": "8e6e6d39",
   "metadata": {},
   "outputs": [
    {
     "data": {
      "text/plain": [
       "4"
      ]
     },
     "execution_count": 27,
     "metadata": {},
     "output_type": "execute_result"
    }
   ],
   "source": [
    "df.select('Cart_Abandonment_Factors').distinct().count()"
   ]
  },
  {
   "cell_type": "code",
   "execution_count": 28,
   "id": "78590ab9",
   "metadata": {},
   "outputs": [
    {
     "name": "stdout",
     "output_type": "stream",
     "text": [
      "+------------------------+-----+\n",
      "|Cart_Abandonment_Factors|count|\n",
      "+------------------------+-----+\n",
      "|                  others|   36|\n",
      "|     High shipping costs|   70|\n",
      "|    Changed my mind o...|  241|\n",
      "|    Found a better pr...|  255|\n",
      "+------------------------+-----+\n",
      "\n"
     ]
    }
   ],
   "source": [
    "## Distinct values of Cart Abandonment Factors\n",
    "df.groupBy('Cart_Abandonment_Factors').count().show()"
   ]
  },
  {
   "cell_type": "code",
   "execution_count": 29,
   "id": "298294de",
   "metadata": {},
   "outputs": [
    {
     "data": {
      "text/plain": [
       "5"
      ]
     },
     "execution_count": 29,
     "metadata": {},
     "output_type": "execute_result"
    }
   ],
   "source": [
    "df.select('Purchase_Frequency').distinct().count()"
   ]
  },
  {
   "cell_type": "code",
   "execution_count": 30,
   "id": "a5908015",
   "metadata": {},
   "outputs": [
    {
     "name": "stdout",
     "output_type": "stream",
     "text": [
      "+--------------------+-----+\n",
      "|  Purchase_Frequency|count|\n",
      "+--------------------+-----+\n",
      "|Multiple times a ...|   56|\n",
      "|         Once a week|  112|\n",
      "|   Few times a month|  203|\n",
      "|Less than once a ...|  124|\n",
      "|        Once a month|  107|\n",
      "+--------------------+-----+\n",
      "\n"
     ]
    }
   ],
   "source": [
    "## Distinct values of Purchase Frequency\n",
    "df.groupBy('Purchase_Frequency').count().show()"
   ]
  },
  {
   "cell_type": "code",
   "execution_count": 31,
   "id": "23b9122b",
   "metadata": {},
   "outputs": [
    {
     "name": "stdout",
     "output_type": "stream",
     "text": [
      "+--------------------+---------------------+\n",
      "| Purchase_Categories|Shopping_satisfaction|\n",
      "+--------------------+---------------------+\n",
      "|Groceries and Gou...|                  1.0|\n",
      "|Groceries and Gou...|                 1.25|\n",
      "|Groceries and Gou...|   1.3333333333333333|\n",
      "|Groceries and Gou...|                  1.7|\n",
      "|Beauty and Person...|   1.7142857142857142|\n",
      "|Groceries and Gou...|               1.9375|\n",
      "|Groceries and Gou...|                  2.0|\n",
      "|Groceries and Gou...|                  2.0|\n",
      "|Groceries and Gou...|                  2.0|\n",
      "|Beauty and Person...|   2.0833333333333335|\n",
      "|Groceries and Gou...|    2.142857142857143|\n",
      "|    Home and Kitchen|   2.1666666666666665|\n",
      "|Groceries and Gou...|   2.1666666666666665|\n",
      "|Groceries and Gou...|                  2.2|\n",
      "|Beauty and Person...|    2.238095238095238|\n",
      "|Beauty and Person...|   2.2857142857142856|\n",
      "|Beauty and Person...|   2.3260869565217392|\n",
      "|Beauty and Person...|                  2.4|\n",
      "|Clothing and Fash...|   2.5555555555555554|\n",
      "|Clothing and Fash...|   2.5714285714285716|\n",
      "+--------------------+---------------------+\n",
      "only showing top 20 rows\n",
      "\n"
     ]
    }
   ],
   "source": [
    "## Checking which category got more shopping satisfaction by taking the average\n",
    "(df.groupBy('Purchase_Categories').agg(avg('Shopping_satisfaction').alias('Shopping_satisfaction')).\\\n",
    "sort('Shopping_satisfaction')).show(truncate=True)"
   ]
  },
  {
   "cell_type": "code",
   "execution_count": 32,
   "id": "417d3ec6",
   "metadata": {},
   "outputs": [],
   "source": [
    "## Checking most popular reasons for cart abandonment\n",
    "#df.groupBy('Cart_Abandonment_Factors').count().orderBy(desc('count')).show()"
   ]
  },
  {
   "cell_type": "code",
   "execution_count": 33,
   "id": "81007d7a",
   "metadata": {},
   "outputs": [
    {
     "data": {
      "text/plain": [
       "3"
      ]
     },
     "execution_count": 33,
     "metadata": {},
     "output_type": "execute_result"
    }
   ],
   "source": [
    "## Count of different values for whether the recommendation is helpful\n",
    "df.select('Recommendation_Helpfulness').distinct().count()"
   ]
  },
  {
   "cell_type": "code",
   "execution_count": null,
   "id": "fb28df62",
   "metadata": {},
   "outputs": [],
   "source": []
  },
  {
   "cell_type": "code",
   "execution_count": 34,
   "id": "28880341",
   "metadata": {},
   "outputs": [
    {
     "name": "stdout",
     "output_type": "stream",
     "text": [
      "+--------------------------+-----+\n",
      "|Recommendation_Helpfulness|count|\n",
      "+--------------------------+-----+\n",
      "|                 Sometimes|  273|\n",
      "|                        No|  172|\n",
      "|                       Yes|  157|\n",
      "+--------------------------+-----+\n",
      "\n"
     ]
    }
   ],
   "source": [
    "## Distinct values of Recommendation helpfulness\n",
    "df.groupBy('Recommendation_Helpfulness').count().show()"
   ]
  },
  {
   "cell_type": "code",
   "execution_count": 35,
   "id": "88af54cc",
   "metadata": {},
   "outputs": [],
   "source": [
    "#df.stat.corr('Rating_Accuracy ','Shopping_Satisfaction')"
   ]
  },
  {
   "cell_type": "markdown",
   "id": "7970fb89",
   "metadata": {},
   "source": [
    "## Describing the dataset by selecting the integer values"
   ]
  },
  {
   "cell_type": "code",
   "execution_count": 36,
   "id": "61c064db",
   "metadata": {},
   "outputs": [
    {
     "name": "stdout",
     "output_type": "stream",
     "text": [
      "+-------+------------------+---------------------------+---------------------------------------+------------------+---------------------+\n",
      "|summary|               age|Customer_Reviews_Importance|Personalized_Recommendation_Frequency17|   Rating_Accuracy|Shopping_Satisfaction|\n",
      "+-------+------------------+---------------------------+---------------------------------------+------------------+---------------------+\n",
      "|  count|               602|                        602|                                    602|               602|                  602|\n",
      "|   mean|30.790697674418606|         2.4800664451827243|                     2.6993355481727574|2.6727574750830563|    2.463455149501661|\n",
      "| stddev|10.193275972581427|         1.1852257431111726|                     1.0420283993524453|0.8997441146602887|   1.0121524594380453|\n",
      "|    min|                 3|                          1|                                      1|                 1|                    1|\n",
      "|    max|                67|                          5|                                      5|                 5|                    5|\n",
      "+-------+------------------+---------------------------+---------------------------------------+------------------+---------------------+\n",
      "\n"
     ]
    }
   ],
   "source": [
    "## Printing the integer values\n",
    "numeric_features = [t[0] for t in df.dtypes if t[1] == 'int']\n",
    "df.select(numeric_features).describe().show()"
   ]
  },
  {
   "cell_type": "code",
   "execution_count": null,
   "id": "8874c6b5",
   "metadata": {},
   "outputs": [],
   "source": []
  },
  {
   "cell_type": "code",
   "execution_count": null,
   "id": "387bbc27",
   "metadata": {},
   "outputs": [],
   "source": []
  },
  {
   "cell_type": "code",
   "execution_count": 37,
   "id": "6e9ae1d4",
   "metadata": {},
   "outputs": [
    {
     "data": {
      "text/plain": [
       "<seaborn.axisgrid.PairGrid at 0x1d1ce6b3310>"
      ]
     },
     "execution_count": 37,
     "metadata": {},
     "output_type": "execute_result"
    },
    {
     "data": {
      "image/png": "[encoded data removed]",
      "text/plain": [
       "<Figure size 1250x1250 with 30 Axes>"
      ]
     },
     "metadata": {},
     "output_type": "display_data"
    }
   ],
   "source": [
    "df2 = df.toPandas()\n",
    "sns.pairplot(df2)"
   ]
  },
  {
   "cell_type": "code",
   "execution_count": 38,
   "id": "1a0bf178",
   "metadata": {},
   "outputs": [
    {
     "name": "stderr",
     "output_type": "stream",
     "text": [
      "C:\\Users\\devad\\AppData\\Local\\Temp\\ipykernel_28988\\1778878097.py:1: FutureWarning: The default value of numeric_only in DataFrame.corr is deprecated. In a future version, it will default to False. Select only valid columns or specify the value of numeric_only to silence this warning.\n",
      "  df2.corr()\n"
     ]
    },
    {
     "data": {
      "text/html": [
       "<div>\n",
       "<style scoped>\n",
       "    .dataframe tbody tr th:only-of-type {\n",
       "        vertical-align: middle;\n",
       "    }\n",
       "\n",
       "    .dataframe tbody tr th {\n",
       "        vertical-align: top;\n",
       "    }\n",
       "\n",
       "    .dataframe thead th {\n",
       "        text-align: right;\n",
       "    }\n",
       "</style>\n",
       "<table border=\"1\" class=\"dataframe\">\n",
       "  <thead>\n",
       "    <tr style=\"text-align: right;\">\n",
       "      <th></th>\n",
       "      <th>age</th>\n",
       "      <th>Customer_Reviews_Importance</th>\n",
       "      <th>Personalized_Recommendation_Frequency17</th>\n",
       "      <th>Rating_Accuracy</th>\n",
       "      <th>Shopping_Satisfaction</th>\n",
       "    </tr>\n",
       "  </thead>\n",
       "  <tbody>\n",
       "    <tr>\n",
       "      <th>age</th>\n",
       "      <td>1.000000</td>\n",
       "      <td>0.077193</td>\n",
       "      <td>-0.018937</td>\n",
       "      <td>-0.010202</td>\n",
       "      <td>0.003934</td>\n",
       "    </tr>\n",
       "    <tr>\n",
       "      <th>Customer_Reviews_Importance</th>\n",
       "      <td>0.077193</td>\n",
       "      <td>1.000000</td>\n",
       "      <td>0.313761</td>\n",
       "      <td>0.314513</td>\n",
       "      <td>0.402317</td>\n",
       "    </tr>\n",
       "    <tr>\n",
       "      <th>Personalized_Recommendation_Frequency17</th>\n",
       "      <td>-0.018937</td>\n",
       "      <td>0.313761</td>\n",
       "      <td>1.000000</td>\n",
       "      <td>0.437943</td>\n",
       "      <td>0.438395</td>\n",
       "    </tr>\n",
       "    <tr>\n",
       "      <th>Rating_Accuracy</th>\n",
       "      <td>-0.010202</td>\n",
       "      <td>0.314513</td>\n",
       "      <td>0.437943</td>\n",
       "      <td>1.000000</td>\n",
       "      <td>0.513962</td>\n",
       "    </tr>\n",
       "    <tr>\n",
       "      <th>Shopping_Satisfaction</th>\n",
       "      <td>0.003934</td>\n",
       "      <td>0.402317</td>\n",
       "      <td>0.438395</td>\n",
       "      <td>0.513962</td>\n",
       "      <td>1.000000</td>\n",
       "    </tr>\n",
       "  </tbody>\n",
       "</table>\n",
       "</div>"
      ],
      "text/plain": [
       "                                              age  \\\n",
       "age                                      1.000000   \n",
       "Customer_Reviews_Importance              0.077193   \n",
       "Personalized_Recommendation_Frequency17 -0.018937   \n",
       "Rating_Accuracy                         -0.010202   \n",
       "Shopping_Satisfaction                    0.003934   \n",
       "\n",
       "                                         Customer_Reviews_Importance  \\\n",
       "age                                                         0.077193   \n",
       "Customer_Reviews_Importance                                 1.000000   \n",
       "Personalized_Recommendation_Frequency17                     0.313761   \n",
       "Rating_Accuracy                                             0.314513   \n",
       "Shopping_Satisfaction                                       0.402317   \n",
       "\n",
       "                                         Personalized_Recommendation_Frequency17  \\\n",
       "age                                                                    -0.018937   \n",
       "Customer_Reviews_Importance                                             0.313761   \n",
       "Personalized_Recommendation_Frequency17                                 1.000000   \n",
       "Rating_Accuracy                                                         0.437943   \n",
       "Shopping_Satisfaction                                                   0.438395   \n",
       "\n",
       "                                         Rating_Accuracy  \\\n",
       "age                                            -0.010202   \n",
       "Customer_Reviews_Importance                     0.314513   \n",
       "Personalized_Recommendation_Frequency17         0.437943   \n",
       "Rating_Accuracy                                 1.000000   \n",
       "Shopping_Satisfaction                           0.513962   \n",
       "\n",
       "                                         Shopping_Satisfaction  \n",
       "age                                                   0.003934  \n",
       "Customer_Reviews_Importance                           0.402317  \n",
       "Personalized_Recommendation_Frequency17               0.438395  \n",
       "Rating_Accuracy                                       0.513962  \n",
       "Shopping_Satisfaction                                 1.000000  "
      ]
     },
     "execution_count": 38,
     "metadata": {},
     "output_type": "execute_result"
    }
   ],
   "source": [
    "df2.corr()"
   ]
  },
  {
   "cell_type": "code",
   "execution_count": 39,
   "id": "50dbeb9c",
   "metadata": {},
   "outputs": [],
   "source": [
    "## There is no unrealistic correlation. So the dataset is good"
   ]
  },
  {
   "cell_type": "markdown",
   "id": "087c8a71",
   "metadata": {},
   "source": [
    "## Importing String Indexer to Convert categorical values to numerical"
   ]
  },
  {
   "cell_type": "code",
   "execution_count": 40,
   "id": "c985d870",
   "metadata": {},
   "outputs": [],
   "source": [
    "from pyspark.ml.feature import StringIndexer"
   ]
  },
  {
   "cell_type": "code",
   "execution_count": 41,
   "id": "e8dd0b08",
   "metadata": {},
   "outputs": [],
   "source": [
    "## Python function to feed values so that they can be converted to numeric values easily\n",
    "dataframe_columns = df.columns\n",
    "dataframe_non_cat = ['Timestamp','age','Customer_Reviews_Importance','Personalized_Recommendation_Frequency','Rating_Accuracy',\n",
    "                    'Shopping_Satisfaction']\n",
    "for x in dataframe_columns:\n",
    "    if x not in dataframe_non_cat:\n",
    "        df = StringIndexer(\n",
    "        inputCol= x,\n",
    "        outputCol= x+'_Indexed',\n",
    "        handleInvalid='keep').fit(df).transform(df)"
   ]
  },
  {
   "cell_type": "code",
   "execution_count": 42,
   "id": "d7c03a14",
   "metadata": {},
   "outputs": [
    {
     "name": "stdout",
     "output_type": "stream",
     "text": [
      "+--------------------+---+-----------------+--------------------+--------------------+--------------------------------------+------------------+---------------------+-------------------------+---------------------------+--------------------+-------------------------+------------------------+----------------------+-----------+------------------+------------------+---------------------------------------+--------------------------+---------------+---------------------+--------------------+--------------------+--------------+--------------------------+---------------------------+----------------------------------------------+--------------------------+-----------------------------+---------------------------------+----------------------------+---------------------------------+--------------------------------+------------------------------+-------------------+--------------------------+--------------------------+-----------------------------------------------+----------------------------------+----------------------------+-------------------------+\n",
      "|           Timestamp|age|           Gender|  Purchase_Frequency| Purchase_Categories|Personalized_Recommendation_Frequency5|Browsing_Frequency|Product_Search_Method|Search_Result_Exploration|Customer_Reviews_Importance|Add_to_Cart_Browsing|Cart_Completion_Frequency|Cart_Abandonment_Factors|Saveforlater_Frequency|Review_Left|Review_Reliability|Review_Helpfulness|Personalized_Recommendation_Frequency17|Recommendation_Helpfulness|Rating_Accuracy|Shopping_Satisfaction|Service_Appreciation|   Improvement_Areas|Gender_Indexed|Purchase_Frequency_Indexed|Purchase_Categories_Indexed|Personalized_Recommendation_Frequency5_Indexed|Browsing_Frequency_Indexed|Product_Search_Method_Indexed|Search_Result_Exploration_Indexed|Add_to_Cart_Browsing_Indexed|Cart_Completion_Frequency_Indexed|Cart_Abandonment_Factors_Indexed|Saveforlater_Frequency_Indexed|Review_Left_Indexed|Review_Reliability_Indexed|Review_Helpfulness_Indexed|Personalized_Recommendation_Frequency17_Indexed|Recommendation_Helpfulness_Indexed|Service_Appreciation_Indexed|Improvement_Areas_Indexed|\n",
      "+--------------------+---+-----------------+--------------------+--------------------+--------------------------------------+------------------+---------------------+-------------------------+---------------------------+--------------------+-------------------------+------------------------+----------------------+-----------+------------------+------------------+---------------------------------------+--------------------------+---------------+---------------------+--------------------+--------------------+--------------+--------------------------+---------------------------+----------------------------------------------+--------------------------+-----------------------------+---------------------------------+----------------------------+---------------------------------+--------------------------------+------------------------------+-------------------+--------------------------+--------------------------+-----------------------------------------------+----------------------------------+----------------------------+-------------------------+\n",
      "|2023/06/04 1:28:1...| 23|           Female|   Few times a month|Beauty and Person...|                                   Yes|  Few times a week|              Keyword|           Multiple pages|                          1|                 Yes|                Sometimes|    Found a better pr...|             Sometimes|        Yes|      Occasionally|               Yes|                                      2|                       Yes|              1|                    1|  Competitive prices|Reducing packagin...|           0.0|                       0.0|                        0.0|                                           2.0|                       0.0|                          1.0|                              0.0|                         1.0|                              0.0|                             0.0|                           0.0|                0.0|                       1.0|                       0.0|                                            1.0|                               2.0|                         1.0|                      2.0|\n",
      "|2023/06/04 2:30:4...| 23|           Female|        Once a month|Clothing and Fashion|                                   Yes| Few times a month|              Keyword|           Multiple pages|                          1|                 Yes|                    Often|     High shipping costs|                Rarely|         No|           Heavily|               Yes|                                      2|                 Sometimes|              3|                    2|Wide product sele...|Reducing packagin...|           0.0|                       3.0|                        1.0|                                           2.0|                       1.0|                          1.0|                              0.0|                         1.0|                              1.0|                             2.0|                           2.0|                1.0|                       2.0|                       0.0|                                            1.0|                               0.0|                         2.0|                      2.0|\n",
      "|2023/06/04 5:04:5...| 24|Prefer not to say|   Few times a month|Groceries and Gou...|                                    No| Few times a month|              Keyword|           Multiple pages|                          2|                 Yes|                Sometimes|    Found a better pr...|                Rarely|         No|      Occasionally|                No|                                      4|                        No|              3|                    3|  Competitive prices|Product quality a...|           2.0|                       0.0|                       19.0|                                           0.0|                       1.0|                          1.0|                              0.0|                         1.0|                              0.0|                             0.0|                           2.0|                1.0|                       1.0|                       2.0|                                            3.0|                               1.0|                         1.0|                      1.0|\n",
      "|2023/06/04 5:13:0...| 24|           Female|        Once a month|Beauty and Person...|                             Sometimes| Few times a month|              Keyword|               First page|                          5|               Maybe|                Sometimes|    Found a better pr...|             Sometimes|        Yes|           Heavily|               Yes|                                      3|                 Sometimes|              3|                    4|  Competitive prices|Product quality a...|           0.0|                       3.0|                       13.0|                                           1.0|                       1.0|                          1.0|                              1.0|                         0.0|                              0.0|                             0.0|                           0.0|                0.0|                       2.0|                       0.0|                                            0.0|                               0.0|                         1.0|                      1.0|\n",
      "|2023/06/04 5:28:0...| 22|           Female|Less than once a ...|Beauty and Person...|                                   Yes| Few times a month|               Filter|           Multiple pages|                          1|                 Yes|                Sometimes|     High shipping costs|                Rarely|         No|           Heavily|               Yes|                                      4|                       Yes|              2|                    2|  Competitive prices|Product quality a...|           0.0|                       1.0|                        3.0|                                           2.0|                       1.0|                          2.0|                              0.0|                         1.0|                              0.0|                             2.0|                           2.0|                1.0|                       2.0|                       0.0|                                            3.0|                               2.0|                         1.0|                      1.0|\n",
      "+--------------------+---+-----------------+--------------------+--------------------+--------------------------------------+------------------+---------------------+-------------------------+---------------------------+--------------------+-------------------------+------------------------+----------------------+-----------+------------------+------------------+---------------------------------------+--------------------------+---------------+---------------------+--------------------+--------------------+--------------+--------------------------+---------------------------+----------------------------------------------+--------------------------+-----------------------------+---------------------------------+----------------------------+---------------------------------+--------------------------------+------------------------------+-------------------+--------------------------+--------------------------+-----------------------------------------------+----------------------------------+----------------------------+-------------------------+\n",
      "only showing top 5 rows\n",
      "\n"
     ]
    }
   ],
   "source": [
    "df.show(5)"
   ]
  },
  {
   "cell_type": "code",
   "execution_count": 43,
   "id": "81371799",
   "metadata": {},
   "outputs": [
    {
     "name": "stdout",
     "output_type": "stream",
     "text": [
      "['Timestamp', 'age', 'Gender', 'Purchase_Frequency', 'Purchase_Categories', 'Personalized_Recommendation_Frequency5', 'Browsing_Frequency', 'Product_Search_Method', 'Search_Result_Exploration', 'Customer_Reviews_Importance', 'Add_to_Cart_Browsing', 'Cart_Completion_Frequency', 'Cart_Abandonment_Factors', 'Saveforlater_Frequency', 'Review_Left', 'Review_Reliability', 'Review_Helpfulness', 'Personalized_Recommendation_Frequency17', 'Recommendation_Helpfulness', 'Rating_Accuracy', 'Shopping_Satisfaction', 'Service_Appreciation', 'Improvement_Areas', 'Gender_Indexed', 'Purchase_Frequency_Indexed', 'Purchase_Categories_Indexed', 'Personalized_Recommendation_Frequency5_Indexed', 'Browsing_Frequency_Indexed', 'Product_Search_Method_Indexed', 'Search_Result_Exploration_Indexed', 'Add_to_Cart_Browsing_Indexed', 'Cart_Completion_Frequency_Indexed', 'Cart_Abandonment_Factors_Indexed', 'Saveforlater_Frequency_Indexed', 'Review_Left_Indexed', 'Review_Reliability_Indexed', 'Review_Helpfulness_Indexed', 'Personalized_Recommendation_Frequency17_Indexed', 'Recommendation_Helpfulness_Indexed', 'Service_Appreciation_Indexed', 'Improvement_Areas_Indexed']\n"
     ]
    }
   ],
   "source": [
    "print(df.columns)"
   ]
  },
  {
   "cell_type": "markdown",
   "id": "0a7c2cb6",
   "metadata": {},
   "source": [
    "## Dropping categorical columns that have been converted to numeric values"
   ]
  },
  {
   "cell_type": "code",
   "execution_count": 44,
   "id": "71657eba",
   "metadata": {},
   "outputs": [],
   "source": [
    "columns_to_drop = [\"Timestamp\",\"Gender\",\"Purchase_Frequency\",\"Purchase_Categories\",\"Personalized_Recommendation_Frequency5\",\\\n",
    "        \"Browsing_Frequency\",\"Product_Search_Method\",\"Search_Result_Exploration\",\"Add_to_Cart_Browsing\",\\\n",
    "        \"Cart_Completion_Frequency\",\"Cart_Abandonment_Factors\",\"Saveforlater_Frequency\",\"Review_Left\",\"Review_Reliability\",\\\n",
    "       \"Review_Helpfulness\",\"Personalized_Recommendation_Frequency17\",\"Recommendation_Helpfulness\",\\\n",
    "       \"Service_Appreciation\",\"Improvement_Areas\",\"Purchase_Categories_Indexed\",\"Improvement_Areas_Indexed\"]\n",
    "df = df.drop(*columns_to_drop)"
   ]
  },
  {
   "cell_type": "code",
   "execution_count": 45,
   "id": "b7bd7066",
   "metadata": {},
   "outputs": [
    {
     "name": "stdout",
     "output_type": "stream",
     "text": [
      "+---+---------------------------+---------------+---------------------+--------------+--------------------------+----------------------------------------------+--------------------------+-----------------------------+---------------------------------+----------------------------+---------------------------------+--------------------------------+------------------------------+-------------------+--------------------------+--------------------------+-----------------------------------------------+----------------------------------+----------------------------+\n",
      "|age|Customer_Reviews_Importance|Rating_Accuracy|Shopping_Satisfaction|Gender_Indexed|Purchase_Frequency_Indexed|Personalized_Recommendation_Frequency5_Indexed|Browsing_Frequency_Indexed|Product_Search_Method_Indexed|Search_Result_Exploration_Indexed|Add_to_Cart_Browsing_Indexed|Cart_Completion_Frequency_Indexed|Cart_Abandonment_Factors_Indexed|Saveforlater_Frequency_Indexed|Review_Left_Indexed|Review_Reliability_Indexed|Review_Helpfulness_Indexed|Personalized_Recommendation_Frequency17_Indexed|Recommendation_Helpfulness_Indexed|Service_Appreciation_Indexed|\n",
      "+---+---------------------------+---------------+---------------------+--------------+--------------------------+----------------------------------------------+--------------------------+-----------------------------+---------------------------------+----------------------------+---------------------------------+--------------------------------+------------------------------+-------------------+--------------------------+--------------------------+-----------------------------------------------+----------------------------------+----------------------------+\n",
      "| 23|                          1|              1|                    1|           0.0|                       0.0|                                           2.0|                       0.0|                          1.0|                              0.0|                         1.0|                              0.0|                             0.0|                           0.0|                0.0|                       1.0|                       0.0|                                            1.0|                               2.0|                         1.0|\n",
      "| 23|                          1|              3|                    2|           0.0|                       3.0|                                           2.0|                       1.0|                          1.0|                              0.0|                         1.0|                              1.0|                             2.0|                           2.0|                1.0|                       2.0|                       0.0|                                            1.0|                               0.0|                         2.0|\n",
      "| 24|                          2|              3|                    3|           2.0|                       0.0|                                           0.0|                       1.0|                          1.0|                              0.0|                         1.0|                              0.0|                             0.0|                           2.0|                1.0|                       1.0|                       2.0|                                            3.0|                               1.0|                         1.0|\n",
      "| 24|                          5|              3|                    4|           0.0|                       3.0|                                           1.0|                       1.0|                          1.0|                              1.0|                         0.0|                              0.0|                             0.0|                           0.0|                0.0|                       2.0|                       0.0|                                            0.0|                               0.0|                         1.0|\n",
      "| 22|                          1|              2|                    2|           0.0|                       1.0|                                           2.0|                       1.0|                          2.0|                              0.0|                         1.0|                              0.0|                             2.0|                           2.0|                1.0|                       2.0|                       0.0|                                            3.0|                               2.0|                         1.0|\n",
      "| 21|                          1|              5|                    2|           0.0|                       1.0|                                           0.0|                       3.0|                          0.0|                              0.0|                         1.0|                              2.0|                             1.0|                           3.0|                1.0|                       2.0|                       0.0|                                            4.0|                               1.0|                         2.0|\n",
      "| 22|                          1|              3|                    3|           0.0|                       1.0|                                           0.0|                       3.0|                          2.0|                              0.0|                         1.0|                              1.0|                             2.0|                           2.0|                1.0|                       2.0|                       0.0|                                            0.0|                               0.0|                         2.0|\n",
      "| 21|                          1|              1|                    3|           0.0|                       0.0|                                           0.0|                       3.0|                          1.0|                              0.0|                         1.0|                              1.0|                             0.0|                           2.0|                1.0|                       2.0|                       1.0|                                            0.0|                               0.0|                         1.0|\n",
      "| 20|                          1|              2|                    2|           0.0|                       1.0|                                           1.0|                       1.0|                          1.0|                              1.0|                         1.0|                              0.0|                             1.0|                           1.0|                1.0|                       0.0|                       0.0|                                            1.0|                               2.0|                         2.0|\n",
      "| 23|                          1|              3|                    4|           0.0|                       1.0|                                           0.0|                       3.0|                          1.0|                              0.0|                         1.0|                              2.0|                             0.0|                           2.0|                1.0|                       2.0|                       0.0|                                            0.0|                               2.0|                         2.0|\n",
      "| 22|                          1|              3|                    2|           0.0|                       1.0|                                           0.0|                       1.0|                          0.0|                              0.0|                         0.0|                              0.0|                             0.0|                           0.0|                1.0|                       2.0|                       0.0|                                            0.0|                               0.0|                         1.0|\n",
      "| 25|                          1|              3|                    1|           0.0|                       4.0|                                           0.0|                       0.0|                          1.0|                              0.0|                         1.0|                              0.0|                             2.0|                           0.0|                0.0|                       2.0|                       0.0|                                            0.0|                               2.0|                         2.0|\n",
      "| 23|                          1|              3|                    2|           0.0|                       1.0|                                           0.0|                       1.0|                          1.0|                              1.0|                         0.0|                              0.0|                             1.0|                           2.0|                1.0|                       2.0|                       1.0|                                            1.0|                               1.0|                         1.0|\n",
      "| 24|                          1|              2|                    2|           0.0|                       3.0|                                           0.0|                       1.0|                          1.0|                              0.0|                         1.0|                              1.0|                             1.0|                           1.0|                0.0|                       0.0|                       0.0|                                            1.0|                               2.0|                         2.0|\n",
      "| 21|                          1|              3|                    1|           0.0|                       1.0|                                           2.0|                       0.0|                          1.0|                              0.0|                         1.0|                              1.0|                             1.0|                           4.0|                0.0|                       2.0|                       0.0|                                            4.0|                               0.0|                         3.0|\n",
      "| 23|                          1|              3|                    3|           0.0|                       1.0|                                           0.0|                       3.0|                          2.0|                              1.0|                         0.0|                              0.0|                             2.0|                           0.0|                1.0|                       2.0|                       0.0|                                            0.0|                               0.0|                         3.0|\n",
      "| 16|                          1|              3|                    2|           1.0|                       0.0|                                           1.0|                       1.0|                          1.0|                              0.0|                         1.0|                              0.0|                             0.0|                           3.0|                1.0|                       2.0|                       0.0|                                            0.0|                               0.0|                         2.0|\n",
      "| 21|                          1|              2|                    1|           0.0|                       1.0|                                           0.0|                       1.0|                          1.0|                              0.0|                         0.0|                              0.0|                             3.0|                           3.0|                1.0|                       2.0|                       0.0|                                            1.0|                               2.0|                         2.0|\n",
      "| 23|                          1|              3|                    2|           0.0|                       0.0|                                           1.0|                       1.0|                          1.0|                              0.0|                         1.0|                              0.0|                             2.0|                           2.0|                1.0|                       0.0|                       0.0|                                            1.0|                               0.0|                         2.0|\n",
      "| 25|                          1|              3|                    2|           0.0|                       1.0|                                           0.0|                       0.0|                          1.0|                              0.0|                         1.0|                              0.0|                             0.0|                           2.0|                1.0|                       2.0|                       0.0|                                            3.0|                               0.0|                         2.0|\n",
      "+---+---------------------------+---------------+---------------------+--------------+--------------------------+----------------------------------------------+--------------------------+-----------------------------+---------------------------------+----------------------------+---------------------------------+--------------------------------+------------------------------+-------------------+--------------------------+--------------------------+-----------------------------------------------+----------------------------------+----------------------------+\n",
      "only showing top 20 rows\n",
      "\n"
     ]
    }
   ],
   "source": [
    "df.show()"
   ]
  },
  {
   "cell_type": "code",
   "execution_count": 46,
   "id": "8cbb3f7d",
   "metadata": {},
   "outputs": [
    {
     "data": {
      "text/plain": [
       "['age',\n",
       " 'Customer_Reviews_Importance',\n",
       " 'Rating_Accuracy',\n",
       " 'Shopping_Satisfaction',\n",
       " 'Gender_Indexed',\n",
       " 'Purchase_Frequency_Indexed',\n",
       " 'Personalized_Recommendation_Frequency5_Indexed',\n",
       " 'Browsing_Frequency_Indexed',\n",
       " 'Product_Search_Method_Indexed',\n",
       " 'Search_Result_Exploration_Indexed',\n",
       " 'Add_to_Cart_Browsing_Indexed',\n",
       " 'Cart_Completion_Frequency_Indexed',\n",
       " 'Cart_Abandonment_Factors_Indexed',\n",
       " 'Saveforlater_Frequency_Indexed',\n",
       " 'Review_Left_Indexed',\n",
       " 'Review_Reliability_Indexed',\n",
       " 'Review_Helpfulness_Indexed',\n",
       " 'Personalized_Recommendation_Frequency17_Indexed',\n",
       " 'Recommendation_Helpfulness_Indexed',\n",
       " 'Service_Appreciation_Indexed']"
      ]
     },
     "execution_count": 46,
     "metadata": {},
     "output_type": "execute_result"
    }
   ],
   "source": [
    "## Trasformed columns\n",
    "df.columns"
   ]
  },
  {
   "cell_type": "code",
   "execution_count": 47,
   "id": "3cb3a22b",
   "metadata": {},
   "outputs": [],
   "source": [
    "## Use VectorAssembler to assemble all the features\n",
    "from pyspark.ml.feature import VectorAssembler"
   ]
  },
  {
   "cell_type": "code",
   "execution_count": 48,
   "id": "bd0663a6",
   "metadata": {},
   "outputs": [],
   "source": [
    "features_required = ['age',\n",
    " 'Customer_Reviews_Importance',\n",
    " 'Rating_Accuracy',\n",
    " 'Shopping_Satisfaction',\n",
    " 'Gender_Indexed',\n",
    " 'Purchase_Frequency_Indexed',\n",
    " 'Personalized_Recommendation_Frequency5_Indexed',\n",
    " 'Browsing_Frequency_Indexed',\n",
    " 'Product_Search_Method_Indexed',\n",
    " 'Search_Result_Exploration_Indexed',\n",
    " 'Add_to_Cart_Browsing_Indexed',\n",
    " 'Cart_Completion_Frequency_Indexed',\n",
    " 'Cart_Abandonment_Factors_Indexed',\n",
    " 'Saveforlater_Frequency_Indexed',\n",
    " 'Review_Left_Indexed',\n",
    " 'Review_Reliability_Indexed',\n",
    " 'Review_Helpfulness_Indexed',\n",
    " 'Personalized_Recommendation_Frequency17_Indexed',\n",
    " 'Service_Appreciation_Indexed']\n",
    "assembler = VectorAssembler(inputCols=features_required,outputCol='features_temp')\n",
    "transformed_data_temp = assembler.transform(df)"
   ]
  },
  {
   "cell_type": "code",
   "execution_count": null,
   "id": "70e12a6f",
   "metadata": {},
   "outputs": [],
   "source": []
  },
  {
   "cell_type": "code",
   "execution_count": 49,
   "id": "d70c6098",
   "metadata": {},
   "outputs": [
    {
     "name": "stdout",
     "output_type": "stream",
     "text": [
      "+---+---------------------------+---------------+---------------------+--------------+--------------------------+----------------------------------------------+--------------------------+-----------------------------+---------------------------------+----------------------------+---------------------------------+--------------------------------+------------------------------+-------------------+--------------------------+--------------------------+-----------------------------------------------+----------------------------------+----------------------------+--------------------+\n",
      "|age|Customer_Reviews_Importance|Rating_Accuracy|Shopping_Satisfaction|Gender_Indexed|Purchase_Frequency_Indexed|Personalized_Recommendation_Frequency5_Indexed|Browsing_Frequency_Indexed|Product_Search_Method_Indexed|Search_Result_Exploration_Indexed|Add_to_Cart_Browsing_Indexed|Cart_Completion_Frequency_Indexed|Cart_Abandonment_Factors_Indexed|Saveforlater_Frequency_Indexed|Review_Left_Indexed|Review_Reliability_Indexed|Review_Helpfulness_Indexed|Personalized_Recommendation_Frequency17_Indexed|Recommendation_Helpfulness_Indexed|Service_Appreciation_Indexed|       features_temp|\n",
      "+---+---------------------------+---------------+---------------------+--------------+--------------------------+----------------------------------------------+--------------------------+-----------------------------+---------------------------------+----------------------------+---------------------------------+--------------------------------+------------------------------+-------------------+--------------------------+--------------------------+-----------------------------------------------+----------------------------------+----------------------------+--------------------+\n",
      "| 23|                          1|              1|                    1|           0.0|                       0.0|                                           2.0|                       0.0|                          1.0|                              0.0|                         1.0|                              0.0|                             0.0|                           0.0|                0.0|                       1.0|                       0.0|                                            1.0|                               2.0|                         1.0|(19,[0,1,2,3,6,8,...|\n",
      "| 23|                          1|              3|                    2|           0.0|                       3.0|                                           2.0|                       1.0|                          1.0|                              0.0|                         1.0|                              1.0|                             2.0|                           2.0|                1.0|                       2.0|                       0.0|                                            1.0|                               0.0|                         2.0|[23.0,1.0,3.0,2.0...|\n",
      "| 24|                          2|              3|                    3|           2.0|                       0.0|                                           0.0|                       1.0|                          1.0|                              0.0|                         1.0|                              0.0|                             0.0|                           2.0|                1.0|                       1.0|                       2.0|                                            3.0|                               1.0|                         1.0|[24.0,2.0,3.0,3.0...|\n",
      "| 24|                          5|              3|                    4|           0.0|                       3.0|                                           1.0|                       1.0|                          1.0|                              1.0|                         0.0|                              0.0|                             0.0|                           0.0|                0.0|                       2.0|                       0.0|                                            0.0|                               0.0|                         1.0|(19,[0,1,2,3,5,6,...|\n",
      "| 22|                          1|              2|                    2|           0.0|                       1.0|                                           2.0|                       1.0|                          2.0|                              0.0|                         1.0|                              0.0|                             2.0|                           2.0|                1.0|                       2.0|                       0.0|                                            3.0|                               2.0|                         1.0|[22.0,1.0,2.0,2.0...|\n",
      "+---+---------------------------+---------------+---------------------+--------------+--------------------------+----------------------------------------------+--------------------------+-----------------------------+---------------------------------+----------------------------+---------------------------------+--------------------------------+------------------------------+-------------------+--------------------------+--------------------------+-----------------------------------------------+----------------------------------+----------------------------+--------------------+\n",
      "only showing top 5 rows\n",
      "\n"
     ]
    }
   ],
   "source": [
    "transformed_data_temp.show(5)"
   ]
  },
  {
   "cell_type": "code",
   "execution_count": 50,
   "id": "3ce02b20",
   "metadata": {},
   "outputs": [
    {
     "name": "stdout",
     "output_type": "stream",
     "text": [
      "+----------------------------------+--------------------+\n",
      "|Recommendation_Helpfulness_Indexed|       features_temp|\n",
      "+----------------------------------+--------------------+\n",
      "|                               2.0|(19,[0,1,2,3,6,8,...|\n",
      "|                               0.0|[23.0,1.0,3.0,2.0...|\n",
      "|                               1.0|[24.0,2.0,3.0,3.0...|\n",
      "|                               0.0|(19,[0,1,2,3,5,6,...|\n",
      "|                               2.0|[22.0,1.0,2.0,2.0...|\n",
      "|                               1.0|[21.0,1.0,5.0,2.0...|\n",
      "|                               0.0|[22.0,1.0,3.0,3.0...|\n",
      "|                               0.0|[21.0,1.0,1.0,3.0...|\n",
      "|                               2.0|[20.0,1.0,2.0,2.0...|\n",
      "|                               2.0|[23.0,1.0,3.0,4.0...|\n",
      "|                               0.0|(19,[0,1,2,3,5,7,...|\n",
      "|                               2.0|(19,[0,1,2,3,5,8,...|\n",
      "|                               1.0|[23.0,1.0,3.0,2.0...|\n",
      "|                               2.0|[24.0,1.0,2.0,2.0...|\n",
      "|                               0.0|[21.0,1.0,3.0,1.0...|\n",
      "|                               0.0|[23.0,1.0,3.0,3.0...|\n",
      "|                               0.0|[16.0,1.0,3.0,2.0...|\n",
      "|                               2.0|[21.0,1.0,2.0,1.0...|\n",
      "|                               0.0|[23.0,1.0,3.0,2.0...|\n",
      "|                               0.0|[25.0,1.0,3.0,2.0...|\n",
      "+----------------------------------+--------------------+\n",
      "only showing top 20 rows\n",
      "\n"
     ]
    }
   ],
   "source": [
    "finalized_raw_data = transformed_data_temp.select(\"Recommendation_Helpfulness_Indexed\", \"features_temp\")\n",
    "finalized_raw_data.show()"
   ]
  },
  {
   "cell_type": "code",
   "execution_count": 51,
   "id": "697e8b1a",
   "metadata": {},
   "outputs": [
    {
     "data": {
      "text/plain": [
       "['label', 'features_temp']"
      ]
     },
     "execution_count": 51,
     "metadata": {},
     "output_type": "execute_result"
    }
   ],
   "source": [
    "## Renaming Target column for ease of use\n",
    "transformed_data = finalized_raw_data.withColumnRenamed(\"Recommendation_Helpfulness_Indexed\", \"label\")\n",
    "transformed_data.columns"
   ]
  },
  {
   "cell_type": "code",
   "execution_count": 52,
   "id": "de3cfb2a",
   "metadata": {},
   "outputs": [
    {
     "name": "stdout",
     "output_type": "stream",
     "text": [
      "+-----+--------------------+\n",
      "|label|       features_temp|\n",
      "+-----+--------------------+\n",
      "|  2.0|(19,[0,1,2,3,6,8,...|\n",
      "|  0.0|[23.0,1.0,3.0,2.0...|\n",
      "|  1.0|[24.0,2.0,3.0,3.0...|\n",
      "|  0.0|(19,[0,1,2,3,5,6,...|\n",
      "|  2.0|[22.0,1.0,2.0,2.0...|\n",
      "|  1.0|[21.0,1.0,5.0,2.0...|\n",
      "|  0.0|[22.0,1.0,3.0,3.0...|\n",
      "|  0.0|[21.0,1.0,1.0,3.0...|\n",
      "|  2.0|[20.0,1.0,2.0,2.0...|\n",
      "|  2.0|[23.0,1.0,3.0,4.0...|\n",
      "|  0.0|(19,[0,1,2,3,5,7,...|\n",
      "|  2.0|(19,[0,1,2,3,5,8,...|\n",
      "|  1.0|[23.0,1.0,3.0,2.0...|\n",
      "|  2.0|[24.0,1.0,2.0,2.0...|\n",
      "|  0.0|[21.0,1.0,3.0,1.0...|\n",
      "|  0.0|[23.0,1.0,3.0,3.0...|\n",
      "|  0.0|[16.0,1.0,3.0,2.0...|\n",
      "|  2.0|[21.0,1.0,2.0,1.0...|\n",
      "|  0.0|[23.0,1.0,3.0,2.0...|\n",
      "|  0.0|[25.0,1.0,3.0,2.0...|\n",
      "+-----+--------------------+\n",
      "only showing top 20 rows\n",
      "\n"
     ]
    }
   ],
   "source": [
    "transformed_data.show()"
   ]
  },
  {
   "cell_type": "markdown",
   "id": "bc63ad9d",
   "metadata": {},
   "source": [
    "## Standardization to scale all the attributes to similar scale"
   ]
  },
  {
   "cell_type": "code",
   "execution_count": 53,
   "id": "f96db8ef",
   "metadata": {},
   "outputs": [],
   "source": [
    "from pyspark.mllib.util import MLUtils\n",
    "from pyspark.ml.feature import StandardScaler\n",
    "\n",
    "scaler = StandardScaler(inputCol=\"features_temp\", outputCol=\"features\",\n",
    "                        withStd=True, withMean=False)\n",
    "\n",
    "# Compute summary statistics by fitting the StandardScaler\n",
    "scalerModel = scaler.fit(transformed_data)\n",
    "\n",
    "# Normalize each feature to have unit standard deviation.\n",
    "scaledData = scalerModel.transform(transformed_data)"
   ]
  },
  {
   "cell_type": "code",
   "execution_count": 54,
   "id": "5831cd79",
   "metadata": {},
   "outputs": [
    {
     "name": "stdout",
     "output_type": "stream",
     "text": [
      "+-----+--------------------+\n",
      "|label|            features|\n",
      "+-----+--------------------+\n",
      "|  2.0|(19,[0,1,2,3,6,8,...|\n",
      "|  0.0|[2.25638941414585...|\n",
      "|  1.0|[2.35449330171741...|\n",
      "|  0.0|(19,[0,1,2,3,5,6,...|\n",
      "|  2.0|[2.15828552657429...|\n",
      "|  1.0|[2.06018163900273...|\n",
      "|  0.0|[2.15828552657429...|\n",
      "|  0.0|[2.06018163900273...|\n",
      "|  2.0|[1.96207775143117...|\n",
      "|  2.0|[2.25638941414585...|\n",
      "|  0.0|(19,[0,1,2,3,5,7,...|\n",
      "|  2.0|(19,[0,1,2,3,5,8,...|\n",
      "|  1.0|[2.25638941414585...|\n",
      "|  2.0|[2.35449330171741...|\n",
      "|  0.0|[2.06018163900273...|\n",
      "|  0.0|[2.25638941414585...|\n",
      "|  0.0|[1.56966220114494...|\n",
      "|  2.0|[2.06018163900273...|\n",
      "|  0.0|[2.25638941414585...|\n",
      "|  0.0|[2.45259718928896...|\n",
      "+-----+--------------------+\n",
      "only showing top 20 rows\n",
      "\n"
     ]
    }
   ],
   "source": [
    "# Dropping features_temp column, because we already have features\n",
    "scaledData = scaledData.drop('features_temp')\n",
    "scaledData.show()"
   ]
  },
  {
   "cell_type": "markdown",
   "id": "a680384d",
   "metadata": {},
   "source": [
    "## Model Training"
   ]
  },
  {
   "cell_type": "markdown",
   "id": "b1b8583c",
   "metadata": {},
   "source": [
    "## Supervised Learning - Random Forest, Decision Tree, Naive Bayes"
   ]
  },
  {
   "cell_type": "markdown",
   "id": "25d12ac7",
   "metadata": {},
   "source": [
    "## 1) Random Forest"
   ]
  },
  {
   "cell_type": "code",
   "execution_count": 55,
   "id": "47b3a9bb",
   "metadata": {},
   "outputs": [],
   "source": [
    "(training_data, test_data) = scaledData.randomSplit([0.8,0.2])"
   ]
  },
  {
   "cell_type": "code",
   "execution_count": 56,
   "id": "7c54fe65",
   "metadata": {},
   "outputs": [],
   "source": [
    "from pyspark.ml.classification import RandomForestClassifier\n",
    "\n",
    "rf = RandomForestClassifier(labelCol='label',\n",
    "                           featuresCol='features',\n",
    "                           maxDepth=5)"
   ]
  },
  {
   "cell_type": "code",
   "execution_count": 57,
   "id": "ea5cca97",
   "metadata": {},
   "outputs": [],
   "source": [
    "model = rf.fit(training_data)"
   ]
  },
  {
   "cell_type": "code",
   "execution_count": 58,
   "id": "1026c3e4",
   "metadata": {},
   "outputs": [
    {
     "name": "stdout",
     "output_type": "stream",
     "text": [
      "+-----+--------------------+--------------------+--------------------+----------+\n",
      "|label|            features|       rawPrediction|         probability|prediction|\n",
      "+-----+--------------------+--------------------+--------------------+----------+\n",
      "|  0.0|(19,[0,1,2,3,4,5,...|[8.91039529183633...|[0.44551976459181...|       0.0|\n",
      "|  0.0|(19,[0,1,2,3,4,6,...|[8.38218802044554...|[0.41910940102227...|       0.0|\n",
      "|  0.0|(19,[0,1,2,3,4,6,...|[8.74515215111429...|[0.43725760755571...|       0.0|\n",
      "|  0.0|(19,[0,1,2,3,4,6,...|[16.4229694731537...|[0.82114847365768...|       0.0|\n",
      "|  0.0|(19,[0,1,2,3,4,6,...|[12.9575486065791...|[0.64787743032895...|       0.0|\n",
      "|  0.0|(19,[0,1,2,3,5,6,...|[14.6239619992666...|[0.73119809996333...|       0.0|\n",
      "|  0.0|(19,[0,1,2,3,5,6,...|[16.5748462391624...|[0.82874231195812...|       0.0|\n",
      "|  0.0|(19,[0,1,2,3,5,6,...|[16.4229694731537...|[0.82114847365768...|       0.0|\n",
      "|  0.0|(19,[0,1,2,3,5,6,...|[16.6650154484526...|[0.83325077242263...|       0.0|\n",
      "|  0.0|(19,[0,1,2,3,5,6,...|[8.10523110772857...|[0.40526155538642...|       0.0|\n",
      "|  0.0|(19,[0,1,2,3,5,6,...|[15.5587492157385...|[0.77793746078692...|       0.0|\n",
      "|  0.0|(19,[0,1,2,3,5,6,...|[14.4903456864429...|[0.72451728432214...|       0.0|\n",
      "|  0.0|(19,[0,1,2,3,5,6,...|[16.3859533002098...|[0.81929766501049...|       0.0|\n",
      "|  0.0|(19,[0,1,2,3,5,6,...|[16.2650650867684...|[0.81325325433842...|       0.0|\n",
      "|  0.0|(19,[0,1,2,3,5,6,...|[12.9222019103589...|[0.64611009551794...|       0.0|\n",
      "|  0.0|(19,[0,1,2,3,5,6,...|[16.4509799750312...|[0.82254899875156...|       0.0|\n",
      "|  0.0|(19,[0,1,2,3,5,7,...|[12.7014013816902...|[0.63507006908451...|       0.0|\n",
      "|  0.0|(19,[0,1,2,3,5,7,...|[12.0683324450747...|[0.60341662225373...|       0.0|\n",
      "|  0.0|(19,[0,1,2,3,5,8,...|[7.32148380183165...|[0.36607419009158...|       2.0|\n",
      "|  0.0|(19,[0,1,2,3,6,7,...|[9.82607147381442...|[0.49130357369072...|       0.0|\n",
      "+-----+--------------------+--------------------+--------------------+----------+\n",
      "only showing top 20 rows\n",
      "\n"
     ]
    }
   ],
   "source": [
    "## Predicting with the test dataset\n",
    "predictions_rf = model.transform(test_data)\n",
    "predictions_rf.show()"
   ]
  },
  {
   "cell_type": "code",
   "execution_count": null,
   "id": "9ecfebc7",
   "metadata": {},
   "outputs": [],
   "source": []
  },
  {
   "cell_type": "code",
   "execution_count": 59,
   "id": "702e074a",
   "metadata": {},
   "outputs": [],
   "source": [
    "## Measuring the accuracy and model evaluation\n",
    "from pyspark.ml.evaluation import MulticlassClassificationEvaluator\n",
    "\n",
    "eval_accuracy = MulticlassClassificationEvaluator(labelCol=\"label\", predictionCol=\"prediction\",\\\n",
    "                                                  metricName=\"accuracy\")\n",
    "eval_precision = MulticlassClassificationEvaluator(labelCol=\"label\", predictionCol=\"prediction\",\\\n",
    "                                                   metricName=\"precisionByLabel\")\n",
    "eval_recall = MulticlassClassificationEvaluator(labelCol=\"label\", predictionCol=\"prediction\",\\\n",
    "                                                metricName=\"recallByLabel\")\n",
    "eval_f1 = MulticlassClassificationEvaluator(labelCol=\"label\", predictionCol=\"prediction\",\\\n",
    "                                            metricName=\"f1\")"
   ]
  },
  {
   "cell_type": "code",
   "execution_count": 60,
   "id": "5fa65979",
   "metadata": {},
   "outputs": [],
   "source": [
    "accuracy = eval_accuracy.evaluate(predictions_rf)\n",
    "precision = eval_precision.evaluate(predictions_rf)\n",
    "recall = eval_recall.evaluate(predictions_rf)\n",
    "f1_score = eval_f1.evaluate(predictions_rf)"
   ]
  },
  {
   "cell_type": "code",
   "execution_count": 61,
   "id": "67f9b99b",
   "metadata": {},
   "outputs": [
    {
     "name": "stdout",
     "output_type": "stream",
     "text": [
      "Accuracy:  0.592\n",
      "Precision  0.625\n",
      "Recall  0.7894736842105263\n",
      "F1 Score  0.5672354252946799\n"
     ]
    }
   ],
   "source": [
    "print('Accuracy: ',accuracy)\n",
    "print('Precision ',precision)\n",
    "print('Recall ',recall)\n",
    "print('F1 Score ',f1_score)"
   ]
  },
  {
   "cell_type": "code",
   "execution_count": null,
   "id": "fc234414",
   "metadata": {},
   "outputs": [],
   "source": []
  },
  {
   "cell_type": "markdown",
   "id": "ed080815",
   "metadata": {},
   "source": [
    "## 2) Decision tree"
   ]
  },
  {
   "cell_type": "code",
   "execution_count": 62,
   "id": "042031d4",
   "metadata": {},
   "outputs": [],
   "source": [
    "from pyspark.ml.classification import DecisionTreeClassifier"
   ]
  },
  {
   "cell_type": "code",
   "execution_count": 63,
   "id": "be79e1eb",
   "metadata": {},
   "outputs": [
    {
     "name": "stdout",
     "output_type": "stream",
     "text": [
      "+-----+--------------------+--------------------+--------------------+----------+\n",
      "|label|            features|       rawPrediction|         probability|prediction|\n",
      "+-----+--------------------+--------------------+--------------------+----------+\n",
      "|  0.0|(19,[0,1,2,3,4,5,...|   [6.0,2.0,4.0,0.0]|[0.5,0.1666666666...|       0.0|\n",
      "|  0.0|(19,[0,1,2,3,4,5,...|  [11.0,5.0,0.0,0.0]|[0.6875,0.3125,0....|       0.0|\n",
      "|  0.0|(19,[0,1,2,3,4,6,...|  [79.0,6.0,7.0,0.0]|[0.85869565217391...|       0.0|\n",
      "|  0.0|(19,[0,1,2,3,4,6,...|[34.0,12.0,18.0,0.0]|[0.53125,0.1875,0...|       0.0|\n",
      "|  0.0|(19,[0,1,2,3,4,6,...|  [79.0,6.0,7.0,0.0]|[0.85869565217391...|       0.0|\n",
      "|  0.0|(19,[0,1,2,3,4,6,...|  [79.0,6.0,7.0,0.0]|[0.85869565217391...|       0.0|\n",
      "|  0.0|(19,[0,1,2,3,5,6,...|  [79.0,6.0,7.0,0.0]|[0.85869565217391...|       0.0|\n",
      "|  0.0|(19,[0,1,2,3,5,6,...|  [79.0,6.0,7.0,0.0]|[0.85869565217391...|       0.0|\n",
      "|  0.0|(19,[0,1,2,3,5,6,...|  [79.0,6.0,7.0,0.0]|[0.85869565217391...|       0.0|\n",
      "|  0.0|(19,[0,1,2,3,5,6,...|   [4.0,7.0,1.0,0.0]|[0.33333333333333...|       1.0|\n",
      "|  0.0|(19,[0,1,2,3,5,6,...|  [79.0,6.0,7.0,0.0]|[0.85869565217391...|       0.0|\n",
      "|  0.0|(19,[0,1,2,3,5,6,...|  [79.0,6.0,7.0,0.0]|[0.85869565217391...|       0.0|\n",
      "|  0.0|(19,[0,1,2,3,5,6,...|  [79.0,6.0,7.0,0.0]|[0.85869565217391...|       0.0|\n",
      "|  0.0|(19,[0,1,2,3,5,6,...|  [79.0,6.0,7.0,0.0]|[0.85869565217391...|       0.0|\n",
      "|  0.0|(19,[0,1,2,3,5,7,...| [16.0,4.0,47.0,0.0]|[0.23880597014925...|       2.0|\n",
      "|  0.0|(19,[0,1,2,3,5,7,...|[34.0,12.0,18.0,0.0]|[0.53125,0.1875,0...|       0.0|\n",
      "|  0.0|(19,[0,1,2,3,5,7,...|   [3.0,6.0,0.0,0.0]|[0.33333333333333...|       1.0|\n",
      "|  0.0|(19,[0,1,2,3,5,7,...|   [7.0,1.0,2.0,0.0]|   [0.7,0.1,0.2,0.0]|       0.0|\n",
      "|  0.0|(19,[0,1,2,3,6,7,...|  [79.0,6.0,7.0,0.0]|[0.85869565217391...|       0.0|\n",
      "|  0.0|(19,[0,1,2,3,6,7,...|  [79.0,6.0,7.0,0.0]|[0.85869565217391...|       0.0|\n",
      "+-----+--------------------+--------------------+--------------------+----------+\n",
      "only showing top 20 rows\n",
      "\n"
     ]
    }
   ],
   "source": [
    "(training_data, test_data) = scaledData.randomSplit([0.8,0.2])\n",
    "dtc = DecisionTreeClassifier(featuresCol=\"features\", labelCol=\"label\")\n",
    "dtc = dtc.fit(training_data)\n",
    "\n",
    "predictions_dt = dtc.transform(test_data)\n",
    "predictions_dt.show()"
   ]
  },
  {
   "cell_type": "code",
   "execution_count": 64,
   "id": "0ef06e30",
   "metadata": {},
   "outputs": [],
   "source": [
    "eval_accuracy2 = MulticlassClassificationEvaluator(labelCol=\"label\", predictionCol=\"prediction\",\\\n",
    "                                                  metricName=\"accuracy\")\n",
    "eval_precision2 = MulticlassClassificationEvaluator(labelCol=\"label\", predictionCol=\"prediction\",\\\n",
    "                                                   metricName=\"precisionByLabel\")\n",
    "eval_recall2 = MulticlassClassificationEvaluator(labelCol=\"label\", predictionCol=\"prediction\",\\\n",
    "                                                metricName=\"recallByLabel\")\n",
    "eval_f12 = MulticlassClassificationEvaluator(labelCol=\"label\", predictionCol=\"prediction\",\\\n",
    "                                            metricName=\"f1\")\n",
    " "
   ]
  },
  {
   "cell_type": "code",
   "execution_count": 65,
   "id": "39ffb2e0",
   "metadata": {},
   "outputs": [],
   "source": [
    "accuracy2 = eval_accuracy2.evaluate(predictions_dt)\n",
    "precision2 = eval_precision2.evaluate(predictions_dt)\n",
    "recall2 = eval_recall2.evaluate(predictions_dt)\n",
    "f1_score2 = eval_f12.evaluate(predictions_dt)"
   ]
  },
  {
   "cell_type": "code",
   "execution_count": 66,
   "id": "63a7bdbd",
   "metadata": {},
   "outputs": [
    {
     "name": "stdout",
     "output_type": "stream",
     "text": [
      "Accuracy:  0.5869565217391305\n",
      "Precision  0.6935483870967742\n",
      "Recall  0.6142857142857143\n",
      "F1 Score  0.5931598594642072\n"
     ]
    }
   ],
   "source": [
    "print('Accuracy: ',accuracy2)\n",
    "print('Precision ',precision2)\n",
    "print('Recall ',recall2)\n",
    "print('F1 Score ',f1_score2)"
   ]
  },
  {
   "cell_type": "code",
   "execution_count": null,
   "id": "e46f52e3",
   "metadata": {},
   "outputs": [],
   "source": []
  },
  {
   "cell_type": "markdown",
   "id": "bb9ddb4b",
   "metadata": {},
   "source": [
    "## 3) Naive Bayes"
   ]
  },
  {
   "cell_type": "code",
   "execution_count": 67,
   "id": "a687ba4f",
   "metadata": {},
   "outputs": [
    {
     "name": "stdout",
     "output_type": "stream",
     "text": [
      "+-----+--------------------+--------------------+--------------------+----------+\n",
      "|label|            features|       rawPrediction|         probability|prediction|\n",
      "+-----+--------------------+--------------------+--------------------+----------+\n",
      "|  0.0|(19,[0,1,2,3,4,5,...|[-52.777256464012...|[0.52400686043833...|       0.0|\n",
      "|  0.0|(19,[0,1,2,3,4,5,...|[-52.817292317270...|[0.88029218294726...|       0.0|\n",
      "|  0.0|(19,[0,1,2,3,4,5,...|[-61.085032682496...|[0.83804355014634...|       0.0|\n",
      "|  0.0|(19,[0,1,2,3,4,6,...|[-68.315484616956...|[0.81765995859611...|       0.0|\n",
      "|  0.0|(19,[0,1,2,3,4,6,...|[-49.775724338969...|[0.85783360767278...|       0.0|\n",
      "|  0.0|(19,[0,1,2,3,4,6,...|[-58.054184275235...|[0.68201703908256...|       0.0|\n",
      "|  0.0|(19,[0,1,2,3,5,6,...|[-39.085044044763...|[0.84453269578272...|       0.0|\n",
      "|  0.0|(19,[0,1,2,3,5,6,...|[-52.537712758445...|[0.77468669311221...|       0.0|\n",
      "|  0.0|(19,[0,1,2,3,5,6,...|[-50.667086762143...|[0.82853419107434...|       0.0|\n",
      "|  0.0|(19,[0,1,2,3,5,6,...|[-43.373080755356...|[0.45346072368936...|       2.0|\n",
      "|  0.0|(19,[0,1,2,3,5,6,...|[-56.659973473618...|[0.81652480958797...|       0.0|\n",
      "|  0.0|(19,[0,1,2,3,5,6,...|[-62.842117573252...|[0.76375384880783...|       0.0|\n",
      "|  0.0|(19,[0,1,2,3,5,6,...|[-52.320647846932...|[0.87395625481982...|       0.0|\n",
      "|  0.0|(19,[0,1,2,3,5,6,...|[-66.417216813471...|[0.75528040158939...|       0.0|\n",
      "|  0.0|(19,[0,1,2,3,5,6,...|[-59.550468432554...|[0.80698730845509...|       0.0|\n",
      "|  0.0|(19,[0,1,2,3,5,6,...|[-67.173520463722...|[0.43697921899937...|       2.0|\n",
      "|  0.0|(19,[0,1,2,3,5,6,...|[-55.822692159416...|[0.67704559490369...|       0.0|\n",
      "|  0.0|(19,[0,1,2,3,5,6,...|[-63.937316641596...|[0.76382477267201...|       0.0|\n",
      "|  0.0|(19,[0,1,2,3,5,6,...|[-44.774475918791...|[0.82643409744995...|       0.0|\n",
      "|  0.0|(19,[0,1,2,3,5,6,...|[-72.852041405409...|[0.53262205085419...|       0.0|\n",
      "+-----+--------------------+--------------------+--------------------+----------+\n",
      "only showing top 20 rows\n",
      "\n"
     ]
    }
   ],
   "source": [
    "from pyspark.ml.classification import NaiveBayes\n",
    "# Split the data into train and test\n",
    "splits = scaledData.randomSplit([0.6, 0.4], 1234)\n",
    "train = splits[0]\n",
    "test = splits[1]\n",
    "\n",
    "# create the trainer and set its parameters\n",
    "nb = NaiveBayes(smoothing=1.0, modelType=\"multinomial\")\n",
    "\n",
    "# train the model\n",
    "model = nb.fit(train)\n",
    "\n",
    "# select example rows to display.\n",
    "predictions_nb = model.transform(test)\n",
    "predictions_nb.show()\n",
    "\n",
    "# compute accuracy on the test set\n",
    "eval_accuracy3 = MulticlassClassificationEvaluator(labelCol=\"label\", predictionCol=\"prediction\",\\\n",
    "                                                  metricName=\"accuracy\")\n",
    "eval_precision3 = MulticlassClassificationEvaluator(labelCol=\"label\", predictionCol=\"prediction\",\\\n",
    "                                                   metricName=\"precisionByLabel\")\n",
    "eval_recall3 = MulticlassClassificationEvaluator(labelCol=\"label\", predictionCol=\"prediction\",\\\n",
    "                                                metricName=\"recallByLabel\")\n",
    "eval_f13 = MulticlassClassificationEvaluator(labelCol=\"label\", predictionCol=\"prediction\",\\\n",
    "                                            metricName=\"f1\")"
   ]
  },
  {
   "cell_type": "code",
   "execution_count": 68,
   "id": "d3a64609",
   "metadata": {},
   "outputs": [],
   "source": [
    "accuracy3 = eval_accuracy3.evaluate(predictions_nb)\n",
    "precision3 = eval_precision3.evaluate(predictions_nb)\n",
    "recall3 = eval_recall3.evaluate(predictions_nb)\n",
    "f1_score3 = eval_f13.evaluate(predictions_nb)"
   ]
  },
  {
   "cell_type": "code",
   "execution_count": 69,
   "id": "1b7b18ef",
   "metadata": {},
   "outputs": [
    {
     "name": "stdout",
     "output_type": "stream",
     "text": [
      "Accuracy:  0.5210084033613446\n",
      "Precision  0.5925925925925926\n",
      "Recall  0.5517241379310345\n",
      "F1 Score  0.5237325786809335\n"
     ]
    }
   ],
   "source": [
    "print('Accuracy: ',accuracy3)\n",
    "print('Precision ',precision3)\n",
    "print('Recall ',recall3)\n",
    "print('F1 Score ',f1_score3)"
   ]
  },
  {
   "cell_type": "code",
   "execution_count": null,
   "id": "63b8de81",
   "metadata": {},
   "outputs": [],
   "source": []
  },
  {
   "cell_type": "markdown",
   "id": "a3236acc",
   "metadata": {},
   "source": [
    "## Unsupervised Learning - K-Means Clustering"
   ]
  },
  {
   "cell_type": "markdown",
   "id": "86bd2efe",
   "metadata": {},
   "source": [
    "## 4) K-Means Clustering"
   ]
  },
  {
   "cell_type": "code",
   "execution_count": 70,
   "id": "d8a3fcf1",
   "metadata": {},
   "outputs": [],
   "source": [
    "# Importing K-Means Clustering"
   ]
  },
  {
   "cell_type": "code",
   "execution_count": 71,
   "id": "e7738f44",
   "metadata": {},
   "outputs": [],
   "source": [
    "from pyspark.ml.clustering import KMeans\n",
    "from pyspark.ml.evaluation import ClusteringEvaluator"
   ]
  },
  {
   "cell_type": "code",
   "execution_count": 72,
   "id": "18fe7b33",
   "metadata": {},
   "outputs": [
    {
     "name": "stdout",
     "output_type": "stream",
     "text": [
      "Silhouette Score for k = 2 is 0.17301858097275283\n",
      "Silhouette Score for k = 3 is 0.14319203252532858\n",
      "Silhouette Score for k = 4 is 0.11623920121844479\n",
      "Silhouette Score for k = 5 is 0.13867524847147222\n",
      "Silhouette Score for k = 6 is 0.1308171412555711\n",
      "Silhouette Score for k = 7 is 0.11922713800538673\n",
      "Silhouette Score for k = 8 is 0.10562804582483168\n",
      "Silhouette Score for k = 9 is 0.09659620833523719\n"
     ]
    }
   ],
   "source": [
    "silhouette_score=[]\n",
    "  \n",
    "evaluator = ClusteringEvaluator(predictionCol='prediction',\n",
    "                                featuresCol='features', \\\n",
    "                                metricName='silhouette', \n",
    "                                distanceMeasure='squaredEuclidean')\n",
    "  \n",
    "for i in range(2,10):\n",
    "    kmeans=KMeans(featuresCol='features', k=i)\n",
    "    model=kmeans.fit(scaledData)\n",
    "    predictions=model.transform(scaledData)\n",
    "    score=evaluator.evaluate(predictions)\n",
    "    silhouette_score.append(score)\n",
    "    print('Silhouette Score for k =',i,'is',score)"
   ]
  },
  {
   "cell_type": "code",
   "execution_count": 73,
   "id": "a6cfbc06",
   "metadata": {},
   "outputs": [
    {
     "data": {
      "image/png": "[encoded data removed]",
      "text/plain": [
       "<Figure size 640x480 with 1 Axes>"
      ]
     },
     "metadata": {},
     "output_type": "display_data"
    }
   ],
   "source": [
    "# Visualizing the silhouette scores in a plot\n",
    "import matplotlib.pyplot as plt\n",
    "\n",
    "plt.plot(range(2,10),silhouette_score)\n",
    "plt.xlabel('k')\n",
    "plt.ylabel('silhouette score')\n",
    "plt.title('Silhouette Score')\n",
    "plt.show()\n"
   ]
  },
  {
   "cell_type": "code",
   "execution_count": 74,
   "id": "09229fa9",
   "metadata": {},
   "outputs": [],
   "source": [
    "# Select K=4 where the value of Silhouette Score is maximum"
   ]
  },
  {
   "cell_type": "code",
   "execution_count": 75,
   "id": "2a1b97c0",
   "metadata": {},
   "outputs": [],
   "source": [
    "# Training of K-Means model.\n",
    "kmeans = KMeans(featuresCol='features',k=4)\n",
    "model = kmeans.fit(scaledData)\n",
    "predictions_kmeans = model.transform(scaledData)"
   ]
  },
  {
   "cell_type": "code",
   "execution_count": 76,
   "id": "be083bdf",
   "metadata": {},
   "outputs": [
    {
     "name": "stdout",
     "output_type": "stream",
     "text": [
      "Cluster Centers: \n",
      "[3.12180585 2.48295075 3.14772035 2.78049585 0.81215712 1.02659869\n",
      " 1.09303223 0.58094559 0.9717316  0.68663391 0.88797253 0.52012548\n",
      " 0.78199555 0.51720246 0.79255271 0.79305797 1.55324917 0.54260868\n",
      " 0.62552702]\n",
      "[3.10616252 3.12533319 4.05436086 3.28403457 1.04549745 0.97580634\n",
      " 0.92899777 1.76973559 1.61837125 1.1149979  1.28160984 1.87393497\n",
      " 1.648024   1.55659155 1.40790991 2.07200357 1.2943743  2.1058991\n",
      " 1.43481047]\n",
      "[3.01392204 1.32794369 2.22285422 1.52065079 0.82990419 1.32027229\n",
      " 1.9845008  0.79617225 1.1499862  0.25568772 0.99185457 0.83644442\n",
      " 0.76562527 1.10683694 0.59107731 1.13441771 0.50649429 1.12541059\n",
      " 1.33652979]\n",
      "[2.77359888 1.39586216 2.67232842 2.04863348 0.34654677 1.10014837\n",
      " 0.17459693 1.38944015 0.83691438 0.44904432 1.30045705 0.72711805\n",
      " 1.04777181 1.18252018 1.42592287 1.10892052 0.48539036 0.98709858\n",
      " 1.77407874]\n"
     ]
    }
   ],
   "source": [
    "# Cluster centers\n",
    "centers = model.clusterCenters()\n",
    "print(\"Cluster Centers: \")\n",
    "for center in centers:\n",
    "    print(center)"
   ]
  },
  {
   "cell_type": "code",
   "execution_count": 77,
   "id": "ce014d6f",
   "metadata": {},
   "outputs": [
    {
     "name": "stdout",
     "output_type": "stream",
     "text": [
      "+----------+\n",
      "|prediction|\n",
      "+----------+\n",
      "|         2|\n",
      "|         2|\n",
      "|         0|\n",
      "|         0|\n",
      "|         2|\n",
      "|         3|\n",
      "|         3|\n",
      "|         3|\n",
      "|         3|\n",
      "|         3|\n",
      "|         3|\n",
      "|         3|\n",
      "|         3|\n",
      "|         3|\n",
      "|         2|\n",
      "|         3|\n",
      "|         3|\n",
      "|         3|\n",
      "|         3|\n",
      "|         3|\n",
      "+----------+\n",
      "only showing top 20 rows\n",
      "\n"
     ]
    }
   ],
   "source": [
    "predictions_kmeans.select('prediction').show()"
   ]
  },
  {
   "cell_type": "code",
   "execution_count": 78,
   "id": "24666f8e",
   "metadata": {},
   "outputs": [],
   "source": [
    "eval_accuracy4 = MulticlassClassificationEvaluator(labelCol=\"label\", predictionCol=\"prediction\",\\\n",
    "                                                  metricName=\"accuracy\")\n",
    "eval_precision4 = MulticlassClassificationEvaluator(labelCol=\"label\", predictionCol=\"prediction\",\\\n",
    "                                                   metricName=\"precisionByLabel\")\n",
    "eval_recall4 = MulticlassClassificationEvaluator(labelCol=\"label\", predictionCol=\"prediction\",\\\n",
    "                                                metricName=\"recallByLabel\")\n",
    "eval_f14 = MulticlassClassificationEvaluator(labelCol=\"label\", predictionCol=\"prediction\",\\\n",
    "                                            metricName=\"f1\")"
   ]
  },
  {
   "cell_type": "code",
   "execution_count": 79,
   "id": "d7f7d3ff",
   "metadata": {},
   "outputs": [
    {
     "ename": "IllegalArgumentException",
     "evalue": "requirement failed: Column prediction must be of type class org.apache.spark.sql.types.DoubleType$:double but was actually class org.apache.spark.sql.types.IntegerType$:int.",
     "output_type": "error",
     "traceback": [
      "\u001b[1;31m---------------------------------------------------------------------------\u001b[0m",
      "\u001b[1;31mIllegalArgumentException\u001b[0m                  Traceback (most recent call last)",
      "Cell \u001b[1;32mIn[79], line 1\u001b[0m\n\u001b[1;32m----> 1\u001b[0m accuracy4 \u001b[38;5;241m=\u001b[39m \u001b[43meval_accuracy4\u001b[49m\u001b[38;5;241;43m.\u001b[39;49m\u001b[43mevaluate\u001b[49m\u001b[43m(\u001b[49m\u001b[43mpredictions_kmeans\u001b[49m\u001b[43m)\u001b[49m\n\u001b[0;32m      2\u001b[0m precision4 \u001b[38;5;241m=\u001b[39m eval_precision4\u001b[38;5;241m.\u001b[39mevaluate(predictions_kmeans)\n\u001b[0;32m      3\u001b[0m recall4 \u001b[38;5;241m=\u001b[39m eval_recall4\u001b[38;5;241m.\u001b[39mevaluate(predictions_kmeans)\n",
      "File \u001b[1;32m~\\anaconda3\\lib\\site-packages\\pyspark\\ml\\evaluation.py:111\u001b[0m, in \u001b[0;36mEvaluator.evaluate\u001b[1;34m(self, dataset, params)\u001b[0m\n\u001b[0;32m    109\u001b[0m         \u001b[38;5;28;01mreturn\u001b[39;00m \u001b[38;5;28mself\u001b[39m\u001b[38;5;241m.\u001b[39mcopy(params)\u001b[38;5;241m.\u001b[39m_evaluate(dataset)\n\u001b[0;32m    110\u001b[0m     \u001b[38;5;28;01melse\u001b[39;00m:\n\u001b[1;32m--> 111\u001b[0m         \u001b[38;5;28;01mreturn\u001b[39;00m \u001b[38;5;28;43mself\u001b[39;49m\u001b[38;5;241;43m.\u001b[39;49m\u001b[43m_evaluate\u001b[49m\u001b[43m(\u001b[49m\u001b[43mdataset\u001b[49m\u001b[43m)\u001b[49m\n\u001b[0;32m    112\u001b[0m \u001b[38;5;28;01melse\u001b[39;00m:\n\u001b[0;32m    113\u001b[0m     \u001b[38;5;28;01mraise\u001b[39;00m \u001b[38;5;167;01mTypeError\u001b[39;00m(\u001b[38;5;124m\"\u001b[39m\u001b[38;5;124mParams must be a param map but got \u001b[39m\u001b[38;5;132;01m%s\u001b[39;00m\u001b[38;5;124m.\u001b[39m\u001b[38;5;124m\"\u001b[39m \u001b[38;5;241m%\u001b[39m \u001b[38;5;28mtype\u001b[39m(params))\n",
      "File \u001b[1;32m~\\anaconda3\\lib\\site-packages\\pyspark\\ml\\evaluation.py:148\u001b[0m, in \u001b[0;36mJavaEvaluator._evaluate\u001b[1;34m(self, dataset)\u001b[0m\n\u001b[0;32m    146\u001b[0m \u001b[38;5;28mself\u001b[39m\u001b[38;5;241m.\u001b[39m_transfer_params_to_java()\n\u001b[0;32m    147\u001b[0m \u001b[38;5;28;01massert\u001b[39;00m \u001b[38;5;28mself\u001b[39m\u001b[38;5;241m.\u001b[39m_java_obj \u001b[38;5;129;01mis\u001b[39;00m \u001b[38;5;129;01mnot\u001b[39;00m \u001b[38;5;28;01mNone\u001b[39;00m\n\u001b[1;32m--> 148\u001b[0m \u001b[38;5;28;01mreturn\u001b[39;00m \u001b[38;5;28;43mself\u001b[39;49m\u001b[38;5;241;43m.\u001b[39;49m\u001b[43m_java_obj\u001b[49m\u001b[38;5;241;43m.\u001b[39;49m\u001b[43mevaluate\u001b[49m\u001b[43m(\u001b[49m\u001b[43mdataset\u001b[49m\u001b[38;5;241;43m.\u001b[39;49m\u001b[43m_jdf\u001b[49m\u001b[43m)\u001b[49m\n",
      "File \u001b[1;32m~\\anaconda3\\lib\\site-packages\\py4j\\java_gateway.py:1322\u001b[0m, in \u001b[0;36mJavaMember.__call__\u001b[1;34m(self, *args)\u001b[0m\n\u001b[0;32m   1316\u001b[0m command \u001b[38;5;241m=\u001b[39m proto\u001b[38;5;241m.\u001b[39mCALL_COMMAND_NAME \u001b[38;5;241m+\u001b[39m\\\n\u001b[0;32m   1317\u001b[0m     \u001b[38;5;28mself\u001b[39m\u001b[38;5;241m.\u001b[39mcommand_header \u001b[38;5;241m+\u001b[39m\\\n\u001b[0;32m   1318\u001b[0m     args_command \u001b[38;5;241m+\u001b[39m\\\n\u001b[0;32m   1319\u001b[0m     proto\u001b[38;5;241m.\u001b[39mEND_COMMAND_PART\n\u001b[0;32m   1321\u001b[0m answer \u001b[38;5;241m=\u001b[39m \u001b[38;5;28mself\u001b[39m\u001b[38;5;241m.\u001b[39mgateway_client\u001b[38;5;241m.\u001b[39msend_command(command)\n\u001b[1;32m-> 1322\u001b[0m return_value \u001b[38;5;241m=\u001b[39m \u001b[43mget_return_value\u001b[49m\u001b[43m(\u001b[49m\n\u001b[0;32m   1323\u001b[0m \u001b[43m    \u001b[49m\u001b[43manswer\u001b[49m\u001b[43m,\u001b[49m\u001b[43m \u001b[49m\u001b[38;5;28;43mself\u001b[39;49m\u001b[38;5;241;43m.\u001b[39;49m\u001b[43mgateway_client\u001b[49m\u001b[43m,\u001b[49m\u001b[43m \u001b[49m\u001b[38;5;28;43mself\u001b[39;49m\u001b[38;5;241;43m.\u001b[39;49m\u001b[43mtarget_id\u001b[49m\u001b[43m,\u001b[49m\u001b[43m \u001b[49m\u001b[38;5;28;43mself\u001b[39;49m\u001b[38;5;241;43m.\u001b[39;49m\u001b[43mname\u001b[49m\u001b[43m)\u001b[49m\n\u001b[0;32m   1325\u001b[0m \u001b[38;5;28;01mfor\u001b[39;00m temp_arg \u001b[38;5;129;01min\u001b[39;00m temp_args:\n\u001b[0;32m   1326\u001b[0m     \u001b[38;5;28;01mif\u001b[39;00m \u001b[38;5;28mhasattr\u001b[39m(temp_arg, \u001b[38;5;124m\"\u001b[39m\u001b[38;5;124m_detach\u001b[39m\u001b[38;5;124m\"\u001b[39m):\n",
      "File \u001b[1;32m~\\anaconda3\\lib\\site-packages\\pyspark\\errors\\exceptions\\captured.py:175\u001b[0m, in \u001b[0;36mcapture_sql_exception.<locals>.deco\u001b[1;34m(*a, **kw)\u001b[0m\n\u001b[0;32m    171\u001b[0m converted \u001b[38;5;241m=\u001b[39m convert_exception(e\u001b[38;5;241m.\u001b[39mjava_exception)\n\u001b[0;32m    172\u001b[0m \u001b[38;5;28;01mif\u001b[39;00m \u001b[38;5;129;01mnot\u001b[39;00m \u001b[38;5;28misinstance\u001b[39m(converted, UnknownException):\n\u001b[0;32m    173\u001b[0m     \u001b[38;5;66;03m# Hide where the exception came from that shows a non-Pythonic\u001b[39;00m\n\u001b[0;32m    174\u001b[0m     \u001b[38;5;66;03m# JVM exception message.\u001b[39;00m\n\u001b[1;32m--> 175\u001b[0m     \u001b[38;5;28;01mraise\u001b[39;00m converted \u001b[38;5;28;01mfrom\u001b[39;00m \u001b[38;5;28mNone\u001b[39m\n\u001b[0;32m    176\u001b[0m \u001b[38;5;28;01melse\u001b[39;00m:\n\u001b[0;32m    177\u001b[0m     \u001b[38;5;28;01mraise\u001b[39;00m\n",
      "\u001b[1;31mIllegalArgumentException\u001b[0m: requirement failed: Column prediction must be of type class org.apache.spark.sql.types.DoubleType$:double but was actually class org.apache.spark.sql.types.IntegerType$:int."
     ]
    }
   ],
   "source": [
    "accuracy4 = eval_accuracy4.evaluate(predictions_kmeans)\n",
    "precision4 = eval_precision4.evaluate(predictions_kmeans)\n",
    "recall4 = eval_recall4.evaluate(predictions_kmeans)\n",
    "f1_score4 = eval_f14.evaluate(predictions_kmeans)"
   ]
  },
  {
   "cell_type": "code",
   "execution_count": 80,
   "id": "db1e4509",
   "metadata": {},
   "outputs": [
    {
     "name": "stdout",
     "output_type": "stream",
     "text": [
      "Accuracy:  0.5210084033613446\n",
      "Precision  0.5925925925925926\n",
      "Recall  0.5517241379310345\n",
      "F1 Score  0.5237325786809335\n"
     ]
    }
   ],
   "source": [
    "print('Accuracy: ',accuracy3)\n",
    "print('Precision ',precision3)\n",
    "print('Recall ',recall3)\n",
    "print('F1 Score ',f1_score3)"
   ]
  },
  {
   "cell_type": "code",
   "execution_count": null,
   "id": "d1061450",
   "metadata": {},
   "outputs": [],
   "source": []
  }
 ],
 "metadata": {
  "kernelspec": {
   "display_name": "Python 3 (ipykernel)",
   "language": "python",
   "name": "python3"
  },
  "language_info": {
   "codemirror_mode": {
    "name": "ipython",
    "version": 3
   },
   "file_extension": ".py",
   "mimetype": "text/x-python",
   "name": "python",
   "nbconvert_exporter": "python",
   "pygments_lexer": "ipython3",
   "version": "3.10.9"
  }
 },
 "nbformat": 4,
 "nbformat_minor": 5
}
